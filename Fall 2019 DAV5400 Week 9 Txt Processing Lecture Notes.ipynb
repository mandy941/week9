{
 "cells": [
  {
   "cell_type": "markdown",
   "metadata": {},
   "source": [
    "# Week 8 Assignment Review\n",
    "\n",
    "Some examples of how to achieve the appropriate results for each problem:\n",
    "\n",
    "https://github.com/TTZUO/DAV-5400/blob/master/J_Chen_W8_assn_.ipynb\n",
    "\n",
    "https://github.com/zhijing-zhang/DAV-5400/blob/master/ZJ_Zhang_W8_assn.ipynb\n",
    "\n",
    "https://github.com/vizelman/DAV-5400/blob/master/M_Vizelman_W8_assn.ipynb\n",
    "\n",
    "https://github.com/XIAOJIA68/DAV-5400/blob/master/X_He_W8_assn.ipynb\n",
    "\n",
    "\n",
    "# Week 8 Discussion Topic Review\n",
    "\n",
    "### Problem 1: \n",
    "\n",
    "__a(ab)\\*a__\n",
    "\n",
    "'a' matches the characters 'a' literally (case sensitive)\n",
    "\n",
    "'(ab)\\*' matches between zero and an unlimited number of times\n",
    "\n",
    "'a' matches the character 'a' literally (case sensitive)\n",
    "\n",
    "#### Matches:\n",
    "\n",
    "Option 2. aaba\n",
    "\n",
    "Option 5. aabababa\n",
    "\n",
    "\n",
    "### Problem 2:\n",
    "\n",
    "\\[a-z\\]+\\[\\\\.\\\\?!\\]\n",
    "\n",
    "\n",
    "'\\[a-z\\]+' matches any number of letters in the range of \\[a-z\\]\n",
    "\n",
    "'\\[\\\\.\\\\?!\\]' matches a single character in the given list ('.', '?', '!')\n",
    "\n",
    "#### Matches\n",
    "\n",
    "Option 1: battle!\n",
    " \n",
    "Option 6: undulate?\n",
    "\n",
    "\n",
    "### Problem 3:   \n",
    "\n",
    "<\\[^>\\]+>\n",
    "\n",
    "'<' matches the character '<'\n",
    "\n",
    "'\\[^>\\]+' matches one or more characters NOT present in the list (the only character in the list is '>')\n",
    "\n",
    "'>' matches the '>' character\n",
    "\n",
    "#### Matches\n",
    "\n",
    "Options 1, 3, 5"
   ]
  },
  {
   "cell_type": "markdown",
   "metadata": {},
   "source": [
    "# Week 9: Text Mining - How to Process Natural Language Content with Python\n",
    "\n",
    "- The term \"Text Mining\" (aka \"Text Processing\") refers to the process of identifying patterns and relationships that exist within a large amount of text data.\n",
    "\n",
    "\n",
    "- Text Mining helps us derive insights from unstructured text-based data.\n",
    "\n",
    "\n",
    "- Text mining transforms relatively \"messy\" unstructured text data sets into a structured form which can be used for machine learning applications.\n",
    "\n",
    "\n",
    "- Text Mining techniques are frequently applied to Natural Language Processing (NLP) problems wherein the goal is to enable computers to \"understand\" and/or classify the content of spoken or written human communications.\n",
    "\n",
    "\n",
    "\n",
    "## Some Examples of NLP:\n",
    "\n",
    "- Sentiment Analysis: Document Classification (i.e., what type of document is this?); Classifying positive and negative feedback from clients / customers / the public; etc. Sentiment analysis algorithms can be either __lexical-based__ (i.e., dependent on word counts + word order + a pre-defined list of opinion words that is used to help classify the text) or __machine learning oriented__ (i.e., probabilistic (e.g. Bayesian Networks, Maximum Entropy, Naive Bayes), decision trees, linear classifiers (e.g., support vector machines, neural networks), etc. Machine learning approaches are also dependent on word counts). Machine learning models require that you first properly classify a set of text documents and then train a model using the classified text documents to help you classify new documents.  A good overview of sentiment analysis algorithms can be found here: https://www.sciencedirect.com/science/article/pii/S2090447914000550\n",
    "\n",
    "\n",
    "- Automated summarization of news articles, movie reviews, etc.\n",
    "\n",
    "\n",
    "- Voice recognition\n",
    "\n",
    "\n",
    "\n",
    "## Text Mining Overview\n",
    "\n",
    "A succinct high-level graphic depicting a typical text mining process flow can be found here:\n",
    "\n",
    "- https://www.datacamp.com/community/tutorials/text-analytics-beginners-nltk\n",
    "\n",
    "\n",
    "- __Tokenization__: Splitting a segment of text into smaller sub-segments; Oftentimes down to the level of individual words, i.e., each distinct word becomes a \"token\", and all further instances of a word or phrase are assigned the same token value. After text cleaning, the resulting collection of words is tokenized.\n",
    "\n",
    "\n",
    "- __\"Stopwords\"__: Stopwords are commonly occurring words that usually do not convey substantive meaning as a noun or verb. Some examples: \"a\", \"an\", \"the\", \"and\", \"or\", etc.  Stop words are oftentimes discarded / ignored during text mining.\n",
    "\n",
    "\n",
    "- __Text Cleaning__: Removal of stop words, punctuation, special characters (e.g., HTML tags, etc.), convert all text to lower case for consistency, remove digits, ignore blank spaces, convert words to \"stems\", e.g., \"played\" or \"playing\" become \"play\" \n",
    "\n",
    "\n",
    "A very common question during the early stages of text mining is:\n",
    "\n",
    "- How often do one or more words appear together within a text or collection of documents?\n",
    "\n",
    "\n",
    "Depending on the goal of the analysis, there are a variety of ways this question might be answered:\n",
    "\n",
    "- __\"Bag of Words\" Model__: Create a different token for each word in each document. \n",
    "\n",
    "\n",
    "- __Create a \"Corpus\"__ (aka \"Term-Document Matrix\"): Create a matrix wherein each row corresponds to one of the text documents being analyzed and each column corresponds to an individual token you have extracted from a document. The values within the matrix itself are determined by counting the number of instances that the corresponding token appears within the given document. Raw counts can be used but oftentimes other metrics are used such as a __normalized term frequency__ or the __inverse document frequency__ (explained below).  \n",
    "\n",
    "\n",
    "- Many times tokens that appear infrequently within a text or collection of documents can convey more \"meaning\" than words that occur frequently (__\"Term Frequency\"__ vs. __\"Inverse Document Frequency\"__)\n",
    "\n",
    "\n",
    "- We can also analyze the __distance__ between tokens within a text (e.g., calculate cosine similarity or Levenshtein Distance, etc.)\n",
    "\n",
    "\n",
    "__Note__: Some sentiment analysis algorithms require a term-document matrix while some do not. As such, if you are required to perform sentiment analysis on a particular collection of data, be sure you understand which type of algorithm will/should be applied.\n",
    "\n",
    "\n",
    "__After tokenizing + cleansing + calculating the desired term or word frequencies we can move on to completing whatever the desired output of the analysis may be via the use of a task-appropriate text processing algorithm. Our focus this week will necessarily be limited to the use of sentiment analysis.__\n"
   ]
  },
  {
   "cell_type": "markdown",
   "metadata": {},
   "source": [
    "## Installing the Python Natural Language Toolkit\n",
    "\n",
    "Within an Anaconda command prompt window type the following:\n",
    "\n",
    "__conda install -c anaconda nltk__\n",
    "\n",
    "Then, open your Python environment and enter the following:"
   ]
  },
  {
   "cell_type": "code",
   "execution_count": null,
   "metadata": {},
   "outputs": [],
   "source": [
    "# import nltk library\n",
    "import nltk\n",
    "\n",
    "# download all of the optional NLTK components that do not get installed by default\n",
    "nltk.download('all', halt_on_error=False)"
   ]
  },
  {
   "cell_type": "markdown",
   "metadata": {},
   "source": [
    "If the nltk.download command returns a value of __True__, installation of the tokenizer and other NLTK components was successful within your Anaconda environment\n",
    "\n",
    "\n",
    "## Using the NLTK Library"
   ]
  },
  {
   "cell_type": "code",
   "execution_count": 3,
   "metadata": {},
   "outputs": [
    {
     "data": {
      "text/plain": [
       "['At',\n",
       " 'eight',\n",
       " \"o'clock\",\n",
       " 'on',\n",
       " 'Thursday',\n",
       " 'morning',\n",
       " 'Arthur',\n",
       " 'did',\n",
       " \"n't\",\n",
       " 'feel',\n",
       " 'very',\n",
       " 'good',\n",
       " '.']"
      ]
     },
     "execution_count": 3,
     "metadata": {},
     "output_type": "execute_result"
    }
   ],
   "source": [
    "# load nltk library \n",
    "import nltk\n",
    "\n",
    "# define a test sentence to be tokenized\n",
    "sentence = \"At eight o'clock on Thursday morning Arthur didn't feel very good.\"\n",
    "\n",
    "# apply the tokenizer\n",
    "tokens = nltk.word_tokenize(sentence)\n",
    "\n",
    "# view the tokens created by the tokenizer\n",
    "tokens"
   ]
  },
  {
   "cell_type": "markdown",
   "metadata": {},
   "source": [
    "## Word Tokenization\n",
    "\n",
    "- Split a larger body of text into smaller lines or words to facilitate text processing\n",
    "\n",
    "\n",
    "- NLTK provides tools to facilitate the tokenization process"
   ]
  },
  {
   "cell_type": "code",
   "execution_count": 15,
   "metadata": {},
   "outputs": [
    {
     "name": "stdout",
     "output_type": "stream",
     "text": [
      "['There', 'is', 'a', 'tree', 'near', 'the', 'river', '.']\n"
     ]
    }
   ],
   "source": [
    "import nltk\n",
    "\n",
    "# sentence_data = \"The First sentence is about Python. The Second: about Django. You can learn Python,Django and Data Ananlysis here. \"\n",
    "\n",
    "# define a test sentence\n",
    "sentence_data = \"There is a tree near the river.\"\n",
    "\n",
    "# apply the tokenizer\n",
    "nltk_tokens = nltk.word_tokenize(sentence_data)\n",
    "print (nltk_tokens)"
   ]
  },
  {
   "cell_type": "markdown",
   "metadata": {},
   "source": [
    "## Word Tokenization with Removal of Punctuation\n",
    "\n",
    "- NLTK makes use of regular expressions for the removal of punctuation from text data.\n",
    "\n",
    "\n",
    "- Specifically, we load and use the __RegexpTokenizer__ function from NLTK and apply it to our text data:"
   ]
  },
  {
   "cell_type": "code",
   "execution_count": 17,
   "metadata": {},
   "outputs": [
    {
     "name": "stdout",
     "output_type": "stream",
     "text": [
      "['There', 'is', 'a', 'tree', 'near', 'the', 'river']\n"
     ]
    }
   ],
   "source": [
    "import nltk\n",
    "\n",
    "from nltk.tokenize import RegexpTokenizer\n",
    "\n",
    "# define a test sentence\n",
    "sentence_data = \"There is a tree near the river.\"\n",
    "\n",
    "tokenizer = RegexpTokenizer(r'\\w+')\n",
    "\n",
    "result = tokenizer.tokenize(sentence_data)\n",
    "\n",
    "print(result)"
   ]
  },
  {
   "cell_type": "markdown",
   "metadata": {},
   "source": [
    "Note that the above code has not only removed the punctuation from our sentence; it has also split the sentence into word-by-word tokens."
   ]
  },
  {
   "cell_type": "markdown",
   "metadata": {},
   "source": [
    "## Removing Stopwords from a Text\n",
    "\n",
    "- Stopwords are words that do not add much meaning to a sentence, e.g., the, have, has, a, an, etc.\n",
    "\n",
    "\n",
    "- Stopwords can safely be ignored during text mining without sacrificing the meaning of a sentence.\n",
    "\n",
    "\n",
    "- The NLTK provides a pre-built collection of stopwords for many languages that we can use to help streamline our text mining processes.\n"
   ]
  },
  {
   "cell_type": "code",
   "execution_count": 4,
   "metadata": {},
   "outputs": [
    {
     "name": "stdout",
     "output_type": "stream",
     "text": [
      "['arabic', 'azerbaijani', 'danish', 'dutch', 'english', 'finnish', 'french', 'german', 'greek', 'hungarian', 'indonesian', 'italian', 'kazakh', 'nepali', 'norwegian', 'portuguese', 'romanian', 'russian', 'slovene', 'spanish', 'swedish', 'tajik', 'turkish']\n"
     ]
    }
   ],
   "source": [
    "import nltk\n",
    "\n",
    "# load the stopwords module\n",
    "from nltk.corpus import stopwords\n",
    "\n",
    "# display a list of languages for which NLTK has pre-defined collections of stopwords\n",
    "print(stopwords.fileids())\n"
   ]
  },
  {
   "cell_type": "code",
   "execution_count": 5,
   "metadata": {},
   "outputs": [
    {
     "data": {
      "text/plain": [
       "179"
      ]
     },
     "execution_count": 5,
     "metadata": {},
     "output_type": "execute_result"
    }
   ],
   "source": [
    "# now let's look at the English language stopwords\n",
    "en_stops = set(stopwords.words('english'))\n",
    "\n",
    "# how many English language stopwords are defined in NLTK?\n",
    "len(en_stops)"
   ]
  },
  {
   "cell_type": "code",
   "execution_count": 12,
   "metadata": {},
   "outputs": [
    {
     "data": {
      "text/plain": [
       "['i',\n",
       " 'me',\n",
       " 'my',\n",
       " 'myself',\n",
       " 'we',\n",
       " 'our',\n",
       " 'ours',\n",
       " 'ourselves',\n",
       " 'you',\n",
       " \"you're\",\n",
       " \"you've\",\n",
       " \"you'll\",\n",
       " \"you'd\",\n",
       " 'your',\n",
       " 'yours',\n",
       " 'yourself',\n",
       " 'yourselves',\n",
       " 'he',\n",
       " 'him',\n",
       " 'his',\n",
       " 'himself',\n",
       " 'she',\n",
       " \"she's\",\n",
       " 'her',\n",
       " 'hers',\n",
       " 'herself',\n",
       " 'it',\n",
       " \"it's\",\n",
       " 'its',\n",
       " 'itself',\n",
       " 'they',\n",
       " 'them',\n",
       " 'their',\n",
       " 'theirs',\n",
       " 'themselves',\n",
       " 'what',\n",
       " 'which',\n",
       " 'who',\n",
       " 'whom',\n",
       " 'this',\n",
       " 'that',\n",
       " \"that'll\",\n",
       " 'these',\n",
       " 'those',\n",
       " 'am',\n",
       " 'is',\n",
       " 'are',\n",
       " 'was',\n",
       " 'were',\n",
       " 'be',\n",
       " 'been',\n",
       " 'being',\n",
       " 'have',\n",
       " 'has',\n",
       " 'had',\n",
       " 'having',\n",
       " 'do',\n",
       " 'does',\n",
       " 'did',\n",
       " 'doing']"
      ]
     },
     "execution_count": 12,
     "metadata": {},
     "output_type": "execute_result"
    }
   ],
   "source": [
    "# display some of the stop words\n",
    "\n",
    "stopwords.words('english')[0:60]"
   ]
  },
  {
   "cell_type": "markdown",
   "metadata": {},
   "source": [
    "### A simple example of removing stopwords"
   ]
  },
  {
   "cell_type": "code",
   "execution_count": 25,
   "metadata": {},
   "outputs": [
    {
     "name": "stdout",
     "output_type": "stream",
     "text": [
      "['There', 'is', 'a', 'tree', 'near', 'the', 'river']\n"
     ]
    },
    {
     "data": {
      "text/plain": [
       "['There', 'tree', 'near', 'river']"
      ]
     },
     "execution_count": 25,
     "metadata": {},
     "output_type": "execute_result"
    }
   ],
   "source": [
    "# use of a list comprehension to filter out stopwords\n",
    "\n",
    "print(result)\n",
    "\n",
    "[word for word in result if word not in en_stops]"
   ]
  },
  {
   "cell_type": "markdown",
   "metadata": {},
   "source": [
    "## Sentiment Analysis\n",
    "\n",
    "- Goal is to analyze the opinion/\"sentiment\" of a group, e.g., analyzing opinions of news reports, movies, tweets, instagram posts, etc.\n",
    "\n",
    "\n",
    "- Often applied to social media postings and consumer reviews of products and services.\n",
    "\n",
    "\n",
    "An example using a set of movie reviews provided within the NLTK library:"
   ]
  },
  {
   "cell_type": "code",
   "execution_count": 6,
   "metadata": {},
   "outputs": [],
   "source": [
    "# load the movie review text data from the NLTK library\n",
    "from nltk.corpus import movie_reviews\n",
    "\n",
    "documents = [(list(movie_reviews.words(fileid)), category)\n",
    "             for category in movie_reviews.categories()\n",
    "             for fileid in movie_reviews.fileids(category)]"
   ]
  },
  {
   "cell_type": "code",
   "execution_count": 34,
   "metadata": {},
   "outputs": [],
   "source": [
    "# what have we imported?\n",
    "?movie_reviews"
   ]
  },
  {
   "cell_type": "code",
   "execution_count": 19,
   "metadata": {
    "scrolled": true
   },
   "outputs": [
    {
     "data": {
      "text/plain": [
       "list"
      ]
     },
     "execution_count": 19,
     "metadata": {},
     "output_type": "execute_result"
    }
   ],
   "source": [
    "# what type of structure is 'documents'?\n",
    "type(documents)"
   ]
  },
  {
   "cell_type": "code",
   "execution_count": 20,
   "metadata": {},
   "outputs": [
    {
     "data": {
      "text/plain": [
       "2000"
      ]
     },
     "execution_count": 20,
     "metadata": {},
     "output_type": "execute_result"
    }
   ],
   "source": [
    "# how many movie reviews do we have?\n",
    "len(documents)"
   ]
  },
  {
   "cell_type": "code",
   "execution_count": 33,
   "metadata": {
    "scrolled": true
   },
   "outputs": [
    {
     "name": "stdout",
     "output_type": "stream",
     "text": [
      "(['plot', ':', 'two', 'teen', 'couples', 'go', 'to', 'a', 'church', 'party', ',', 'drink', 'and', 'then', 'drive', '.', 'they', 'get', 'into', 'an', 'accident', '.', 'one', 'of', 'the', 'guys', 'dies', ',', 'but', 'his', 'girlfriend', 'continues', 'to', 'see', 'him', 'in', 'her', 'life', ',', 'and', 'has', 'nightmares', '.', 'what', \"'\", 's', 'the', 'deal', '?', 'watch', 'the', 'movie', 'and', '\"', 'sorta', '\"', 'find', 'out', '.', '.', '.', 'critique', ':', 'a', 'mind', '-', 'fuck', 'movie', 'for', 'the', 'teen', 'generation', 'that', 'touches', 'on', 'a', 'very', 'cool', 'idea', ',', 'but', 'presents', 'it', 'in', 'a', 'very', 'bad', 'package', '.', 'which', 'is', 'what', 'makes', 'this', 'review', 'an', 'even', 'harder', 'one', 'to', 'write', ',', 'since', 'i', 'generally', 'applaud', 'films', 'which', 'attempt', 'to', 'break', 'the', 'mold', ',', 'mess', 'with', 'your', 'head', 'and', 'such', '(', 'lost', 'highway', '&', 'memento', ')', ',', 'but', 'there', 'are', 'good', 'and', 'bad', 'ways', 'of', 'making', 'all', 'types', 'of', 'films', ',', 'and', 'these', 'folks', 'just', 'didn', \"'\", 't', 'snag', 'this', 'one', 'correctly', '.', 'they', 'seem', 'to', 'have', 'taken', 'this', 'pretty', 'neat', 'concept', ',', 'but', 'executed', 'it', 'terribly', '.', 'so', 'what', 'are', 'the', 'problems', 'with', 'the', 'movie', '?', 'well', ',', 'its', 'main', 'problem', 'is', 'that', 'it', \"'\", 's', 'simply', 'too', 'jumbled', '.', 'it', 'starts', 'off', '\"', 'normal', '\"', 'but', 'then', 'downshifts', 'into', 'this', '\"', 'fantasy', '\"', 'world', 'in', 'which', 'you', ',', 'as', 'an', 'audience', 'member', ',', 'have', 'no', 'idea', 'what', \"'\", 's', 'going', 'on', '.', 'there', 'are', 'dreams', ',', 'there', 'are', 'characters', 'coming', 'back', 'from', 'the', 'dead', ',', 'there', 'are', 'others', 'who', 'look', 'like', 'the', 'dead', ',', 'there', 'are', 'strange', 'apparitions', ',', 'there', 'are', 'disappearances', ',', 'there', 'are', 'a', 'looooot', 'of', 'chase', 'scenes', ',', 'there', 'are', 'tons', 'of', 'weird', 'things', 'that', 'happen', ',', 'and', 'most', 'of', 'it', 'is', 'simply', 'not', 'explained', '.', 'now', 'i', 'personally', 'don', \"'\", 't', 'mind', 'trying', 'to', 'unravel', 'a', 'film', 'every', 'now', 'and', 'then', ',', 'but', 'when', 'all', 'it', 'does', 'is', 'give', 'me', 'the', 'same', 'clue', 'over', 'and', 'over', 'again', ',', 'i', 'get', 'kind', 'of', 'fed', 'up', 'after', 'a', 'while', ',', 'which', 'is', 'this', 'film', \"'\", 's', 'biggest', 'problem', '.', 'it', \"'\", 's', 'obviously', 'got', 'this', 'big', 'secret', 'to', 'hide', ',', 'but', 'it', 'seems', 'to', 'want', 'to', 'hide', 'it', 'completely', 'until', 'its', 'final', 'five', 'minutes', '.', 'and', 'do', 'they', 'make', 'things', 'entertaining', ',', 'thrilling', 'or', 'even', 'engaging', ',', 'in', 'the', 'meantime', '?', 'not', 'really', '.', 'the', 'sad', 'part', 'is', 'that', 'the', 'arrow', 'and', 'i', 'both', 'dig', 'on', 'flicks', 'like', 'this', ',', 'so', 'we', 'actually', 'figured', 'most', 'of', 'it', 'out', 'by', 'the', 'half', '-', 'way', 'point', ',', 'so', 'all', 'of', 'the', 'strangeness', 'after', 'that', 'did', 'start', 'to', 'make', 'a', 'little', 'bit', 'of', 'sense', ',', 'but', 'it', 'still', 'didn', \"'\", 't', 'the', 'make', 'the', 'film', 'all', 'that', 'more', 'entertaining', '.', 'i', 'guess', 'the', 'bottom', 'line', 'with', 'movies', 'like', 'this', 'is', 'that', 'you', 'should', 'always', 'make', 'sure', 'that', 'the', 'audience', 'is', '\"', 'into', 'it', '\"', 'even', 'before', 'they', 'are', 'given', 'the', 'secret', 'password', 'to', 'enter', 'your', 'world', 'of', 'understanding', '.', 'i', 'mean', ',', 'showing', 'melissa', 'sagemiller', 'running', 'away', 'from', 'visions', 'for', 'about', '20', 'minutes', 'throughout', 'the', 'movie', 'is', 'just', 'plain', 'lazy', '!', '!', 'okay', ',', 'we', 'get', 'it', '.', '.', '.', 'there', 'are', 'people', 'chasing', 'her', 'and', 'we', 'don', \"'\", 't', 'know', 'who', 'they', 'are', '.', 'do', 'we', 'really', 'need', 'to', 'see', 'it', 'over', 'and', 'over', 'again', '?', 'how', 'about', 'giving', 'us', 'different', 'scenes', 'offering', 'further', 'insight', 'into', 'all', 'of', 'the', 'strangeness', 'going', 'down', 'in', 'the', 'movie', '?', 'apparently', ',', 'the', 'studio', 'took', 'this', 'film', 'away', 'from', 'its', 'director', 'and', 'chopped', 'it', 'up', 'themselves', ',', 'and', 'it', 'shows', '.', 'there', 'might', \"'\", 've', 'been', 'a', 'pretty', 'decent', 'teen', 'mind', '-', 'fuck', 'movie', 'in', 'here', 'somewhere', ',', 'but', 'i', 'guess', '\"', 'the', 'suits', '\"', 'decided', 'that', 'turning', 'it', 'into', 'a', 'music', 'video', 'with', 'little', 'edge', ',', 'would', 'make', 'more', 'sense', '.', 'the', 'actors', 'are', 'pretty', 'good', 'for', 'the', 'most', 'part', ',', 'although', 'wes', 'bentley', 'just', 'seemed', 'to', 'be', 'playing', 'the', 'exact', 'same', 'character', 'that', 'he', 'did', 'in', 'american', 'beauty', ',', 'only', 'in', 'a', 'new', 'neighborhood', '.', 'but', 'my', 'biggest', 'kudos', 'go', 'out', 'to', 'sagemiller', ',', 'who', 'holds', 'her', 'own', 'throughout', 'the', 'entire', 'film', ',', 'and', 'actually', 'has', 'you', 'feeling', 'her', 'character', \"'\", 's', 'unraveling', '.', 'overall', ',', 'the', 'film', 'doesn', \"'\", 't', 'stick', 'because', 'it', 'doesn', \"'\", 't', 'entertain', ',', 'it', \"'\", 's', 'confusing', ',', 'it', 'rarely', 'excites', 'and', 'it', 'feels', 'pretty', 'redundant', 'for', 'most', 'of', 'its', 'runtime', ',', 'despite', 'a', 'pretty', 'cool', 'ending', 'and', 'explanation', 'to', 'all', 'of', 'the', 'craziness', 'that', 'came', 'before', 'it', '.', 'oh', ',', 'and', 'by', 'the', 'way', ',', 'this', 'is', 'not', 'a', 'horror', 'or', 'teen', 'slasher', 'flick', '.', '.', '.', 'it', \"'\", 's', 'just', 'packaged', 'to', 'look', 'that', 'way', 'because', 'someone', 'is', 'apparently', 'assuming', 'that', 'the', 'genre', 'is', 'still', 'hot', 'with', 'the', 'kids', '.', 'it', 'also', 'wrapped', 'production', 'two', 'years', 'ago', 'and', 'has', 'been', 'sitting', 'on', 'the', 'shelves', 'ever', 'since', '.', 'whatever', '.', '.', '.', 'skip', 'it', '!', 'where', \"'\", 's', 'joblo', 'coming', 'from', '?', 'a', 'nightmare', 'of', 'elm', 'street', '3', '(', '7', '/', '10', ')', '-', 'blair', 'witch', '2', '(', '7', '/', '10', ')', '-', 'the', 'crow', '(', '9', '/', '10', ')', '-', 'the', 'crow', ':', 'salvation', '(', '4', '/', '10', ')', '-', 'lost', 'highway', '(', '10', '/', '10', ')', '-', 'memento', '(', '10', '/', '10', ')', '-', 'the', 'others', '(', '9', '/', '10', ')', '-', 'stir', 'of', 'echoes', '(', '8', '/', '10', ')'], 'neg')\n"
     ]
    }
   ],
   "source": [
    "# print the first review\n",
    "print(documents[0])"
   ]
  },
  {
   "cell_type": "code",
   "execution_count": 38,
   "metadata": {},
   "outputs": [
    {
     "data": {
      "text/plain": [
       "['pos/cv000_29590.txt',\n",
       " 'pos/cv001_18431.txt',\n",
       " 'pos/cv002_15918.txt',\n",
       " 'pos/cv003_11664.txt',\n",
       " 'pos/cv004_11636.txt',\n",
       " 'pos/cv005_29443.txt',\n",
       " 'pos/cv006_15448.txt',\n",
       " 'pos/cv007_4968.txt',\n",
       " 'pos/cv008_29435.txt',\n",
       " 'pos/cv009_29592.txt',\n",
       " 'pos/cv010_29198.txt',\n",
       " 'pos/cv011_12166.txt',\n",
       " 'pos/cv012_29576.txt',\n",
       " 'pos/cv013_10159.txt',\n",
       " 'pos/cv014_13924.txt',\n",
       " 'pos/cv015_29439.txt',\n",
       " 'pos/cv016_4659.txt',\n",
       " 'pos/cv017_22464.txt',\n",
       " 'pos/cv018_20137.txt',\n",
       " 'pos/cv019_14482.txt',\n",
       " 'pos/cv020_8825.txt',\n",
       " 'pos/cv021_15838.txt',\n",
       " 'pos/cv022_12864.txt',\n",
       " 'pos/cv023_12672.txt',\n",
       " 'pos/cv024_6778.txt',\n",
       " 'pos/cv025_3108.txt',\n",
       " 'pos/cv026_29325.txt',\n",
       " 'pos/cv027_25219.txt',\n",
       " 'pos/cv028_26746.txt',\n",
       " 'pos/cv029_18643.txt',\n",
       " 'pos/cv030_21593.txt',\n",
       " 'pos/cv031_18452.txt',\n",
       " 'pos/cv032_22550.txt',\n",
       " 'pos/cv033_24444.txt',\n",
       " 'pos/cv034_29647.txt',\n",
       " 'pos/cv035_3954.txt',\n",
       " 'pos/cv036_16831.txt',\n",
       " 'pos/cv037_18510.txt',\n",
       " 'pos/cv038_9749.txt',\n",
       " 'pos/cv039_6170.txt',\n",
       " 'pos/cv040_8276.txt',\n",
       " 'pos/cv041_21113.txt',\n",
       " 'pos/cv042_10982.txt',\n",
       " 'pos/cv043_15013.txt',\n",
       " 'pos/cv044_16969.txt',\n",
       " 'pos/cv045_23923.txt',\n",
       " 'pos/cv046_10188.txt',\n",
       " 'pos/cv047_1754.txt',\n",
       " 'pos/cv048_16828.txt',\n",
       " 'pos/cv049_20471.txt',\n",
       " 'pos/cv050_11175.txt',\n",
       " 'pos/cv051_10306.txt',\n",
       " 'pos/cv052_29378.txt',\n",
       " 'pos/cv053_21822.txt',\n",
       " 'pos/cv054_4230.txt',\n",
       " 'pos/cv055_8338.txt',\n",
       " 'pos/cv056_13133.txt',\n",
       " 'pos/cv057_7453.txt',\n",
       " 'pos/cv058_8025.txt',\n",
       " 'pos/cv059_28885.txt',\n",
       " 'pos/cv060_10844.txt',\n",
       " 'pos/cv061_8837.txt',\n",
       " 'pos/cv062_23115.txt',\n",
       " 'pos/cv063_28997.txt',\n",
       " 'pos/cv064_24576.txt',\n",
       " 'pos/cv065_15248.txt',\n",
       " 'pos/cv066_10821.txt',\n",
       " 'pos/cv067_19774.txt',\n",
       " 'pos/cv068_13400.txt',\n",
       " 'pos/cv069_10801.txt',\n",
       " 'pos/cv070_12289.txt',\n",
       " 'pos/cv071_12095.txt',\n",
       " 'pos/cv072_6169.txt',\n",
       " 'pos/cv073_21785.txt',\n",
       " 'pos/cv074_6875.txt',\n",
       " 'pos/cv075_6500.txt',\n",
       " 'pos/cv076_24945.txt',\n",
       " 'pos/cv077_22138.txt',\n",
       " 'pos/cv078_14730.txt',\n",
       " 'pos/cv079_11933.txt',\n",
       " 'pos/cv080_13465.txt',\n",
       " 'pos/cv081_16582.txt',\n",
       " 'pos/cv082_11080.txt',\n",
       " 'pos/cv083_24234.txt',\n",
       " 'pos/cv084_13566.txt',\n",
       " 'pos/cv085_1381.txt',\n",
       " 'pos/cv086_18371.txt',\n",
       " 'pos/cv087_1989.txt',\n",
       " 'pos/cv088_24113.txt',\n",
       " 'pos/cv089_11418.txt',\n",
       " 'pos/cv090_0042.txt',\n",
       " 'pos/cv091_7400.txt',\n",
       " 'pos/cv092_28017.txt',\n",
       " 'pos/cv093_13951.txt',\n",
       " 'pos/cv094_27889.txt',\n",
       " 'pos/cv095_28892.txt',\n",
       " 'pos/cv096_11474.txt',\n",
       " 'pos/cv097_24970.txt',\n",
       " 'pos/cv098_15435.txt',\n",
       " 'pos/cv099_10534.txt',\n",
       " 'pos/cv100_11528.txt',\n",
       " 'pos/cv101_10175.txt',\n",
       " 'pos/cv102_7846.txt',\n",
       " 'pos/cv103_11021.txt',\n",
       " 'pos/cv104_18134.txt',\n",
       " 'pos/cv105_17990.txt',\n",
       " 'pos/cv106_16807.txt',\n",
       " 'pos/cv107_24319.txt',\n",
       " 'pos/cv108_15571.txt',\n",
       " 'pos/cv109_21172.txt',\n",
       " 'pos/cv110_27788.txt',\n",
       " 'pos/cv111_11473.txt',\n",
       " 'pos/cv112_11193.txt',\n",
       " 'pos/cv113_23102.txt',\n",
       " 'pos/cv114_18398.txt',\n",
       " 'pos/cv115_25396.txt',\n",
       " 'pos/cv116_28942.txt',\n",
       " 'pos/cv117_24295.txt',\n",
       " 'pos/cv118_28980.txt',\n",
       " 'pos/cv119_9867.txt',\n",
       " 'pos/cv120_4111.txt',\n",
       " 'pos/cv121_17302.txt',\n",
       " 'pos/cv122_7392.txt',\n",
       " 'pos/cv123_11182.txt',\n",
       " 'pos/cv124_4122.txt',\n",
       " 'pos/cv125_9391.txt',\n",
       " 'pos/cv126_28971.txt',\n",
       " 'pos/cv127_14711.txt',\n",
       " 'pos/cv128_29627.txt',\n",
       " 'pos/cv129_16741.txt',\n",
       " 'pos/cv130_17083.txt',\n",
       " 'pos/cv131_10713.txt',\n",
       " 'pos/cv132_5618.txt',\n",
       " 'pos/cv133_16336.txt',\n",
       " 'pos/cv134_22246.txt',\n",
       " 'pos/cv135_11603.txt',\n",
       " 'pos/cv136_11505.txt',\n",
       " 'pos/cv137_15422.txt',\n",
       " 'pos/cv138_12721.txt',\n",
       " 'pos/cv139_12873.txt',\n",
       " 'pos/cv140_7479.txt',\n",
       " 'pos/cv141_15686.txt',\n",
       " 'pos/cv142_22516.txt',\n",
       " 'pos/cv143_19666.txt',\n",
       " 'pos/cv144_5007.txt',\n",
       " 'pos/cv145_11472.txt',\n",
       " 'pos/cv146_18458.txt',\n",
       " 'pos/cv147_21193.txt',\n",
       " 'pos/cv148_16345.txt',\n",
       " 'pos/cv149_15670.txt',\n",
       " 'pos/cv150_12916.txt',\n",
       " 'pos/cv151_15771.txt',\n",
       " 'pos/cv152_8736.txt',\n",
       " 'pos/cv153_10779.txt',\n",
       " 'pos/cv154_9328.txt',\n",
       " 'pos/cv155_7308.txt',\n",
       " 'pos/cv156_10481.txt',\n",
       " 'pos/cv157_29372.txt',\n",
       " 'pos/cv158_10390.txt',\n",
       " 'pos/cv159_29505.txt',\n",
       " 'pos/cv160_10362.txt',\n",
       " 'pos/cv161_11425.txt',\n",
       " 'pos/cv162_10424.txt',\n",
       " 'pos/cv163_10052.txt',\n",
       " 'pos/cv164_22447.txt',\n",
       " 'pos/cv165_22619.txt',\n",
       " 'pos/cv166_11052.txt',\n",
       " 'pos/cv167_16376.txt',\n",
       " 'pos/cv168_7050.txt',\n",
       " 'pos/cv169_23778.txt',\n",
       " 'pos/cv170_3006.txt',\n",
       " 'pos/cv171_13537.txt',\n",
       " 'pos/cv172_11131.txt',\n",
       " 'pos/cv173_4471.txt',\n",
       " 'pos/cv174_9659.txt',\n",
       " 'pos/cv175_6964.txt',\n",
       " 'pos/cv176_12857.txt',\n",
       " 'pos/cv177_10367.txt',\n",
       " 'pos/cv178_12972.txt',\n",
       " 'pos/cv179_9228.txt',\n",
       " 'pos/cv180_16113.txt',\n",
       " 'pos/cv181_14401.txt',\n",
       " 'pos/cv182_7281.txt',\n",
       " 'pos/cv183_18612.txt',\n",
       " 'pos/cv184_2673.txt',\n",
       " 'pos/cv185_28654.txt',\n",
       " 'pos/cv186_2269.txt',\n",
       " 'pos/cv187_12829.txt',\n",
       " 'pos/cv188_19226.txt',\n",
       " 'pos/cv189_22934.txt',\n",
       " 'pos/cv190_27052.txt',\n",
       " 'pos/cv191_29719.txt',\n",
       " 'pos/cv192_14395.txt',\n",
       " 'pos/cv193_5416.txt',\n",
       " 'pos/cv194_12079.txt',\n",
       " 'pos/cv195_14528.txt',\n",
       " 'pos/cv196_29027.txt',\n",
       " 'pos/cv197_29328.txt',\n",
       " 'pos/cv198_18180.txt',\n",
       " 'pos/cv199_9629.txt',\n",
       " 'pos/cv200_2915.txt',\n",
       " 'pos/cv201_6997.txt',\n",
       " 'pos/cv202_10654.txt',\n",
       " 'pos/cv203_17986.txt',\n",
       " 'pos/cv204_8451.txt',\n",
       " 'pos/cv205_9457.txt',\n",
       " 'pos/cv206_14293.txt',\n",
       " 'pos/cv207_29284.txt',\n",
       " 'pos/cv208_9020.txt',\n",
       " 'pos/cv209_29118.txt',\n",
       " 'pos/cv210_9312.txt',\n",
       " 'pos/cv211_9953.txt',\n",
       " 'pos/cv212_10027.txt',\n",
       " 'pos/cv213_18934.txt',\n",
       " 'pos/cv214_12294.txt',\n",
       " 'pos/cv215_22240.txt',\n",
       " 'pos/cv216_18738.txt',\n",
       " 'pos/cv217_28842.txt',\n",
       " 'pos/cv218_24352.txt',\n",
       " 'pos/cv219_18626.txt',\n",
       " 'pos/cv220_29059.txt',\n",
       " 'pos/cv221_2695.txt',\n",
       " 'pos/cv222_17395.txt',\n",
       " 'pos/cv223_29066.txt',\n",
       " 'pos/cv224_17661.txt',\n",
       " 'pos/cv225_29224.txt',\n",
       " 'pos/cv226_2618.txt',\n",
       " 'pos/cv227_24215.txt',\n",
       " 'pos/cv228_5806.txt',\n",
       " 'pos/cv229_13611.txt',\n",
       " 'pos/cv230_7428.txt',\n",
       " 'pos/cv231_10425.txt',\n",
       " 'pos/cv232_14991.txt',\n",
       " 'pos/cv233_15964.txt',\n",
       " 'pos/cv234_20643.txt',\n",
       " 'pos/cv235_10217.txt',\n",
       " 'pos/cv236_11565.txt',\n",
       " 'pos/cv237_19221.txt',\n",
       " 'pos/cv238_12931.txt',\n",
       " 'pos/cv239_3385.txt',\n",
       " 'pos/cv240_14336.txt',\n",
       " 'pos/cv241_23130.txt',\n",
       " 'pos/cv242_10638.txt',\n",
       " 'pos/cv243_20728.txt',\n",
       " 'pos/cv244_21649.txt',\n",
       " 'pos/cv245_8569.txt',\n",
       " 'pos/cv246_28807.txt',\n",
       " 'pos/cv247_13142.txt',\n",
       " 'pos/cv248_13987.txt',\n",
       " 'pos/cv249_11640.txt',\n",
       " 'pos/cv250_25616.txt',\n",
       " 'pos/cv251_22636.txt',\n",
       " 'pos/cv252_23779.txt',\n",
       " 'pos/cv253_10077.txt',\n",
       " 'pos/cv254_6027.txt',\n",
       " 'pos/cv255_13683.txt',\n",
       " 'pos/cv256_14740.txt',\n",
       " 'pos/cv257_10975.txt',\n",
       " 'pos/cv258_5792.txt',\n",
       " 'pos/cv259_10934.txt',\n",
       " 'pos/cv260_13959.txt',\n",
       " 'pos/cv261_10954.txt',\n",
       " 'pos/cv262_12649.txt',\n",
       " 'pos/cv263_19259.txt',\n",
       " 'pos/cv264_12801.txt',\n",
       " 'pos/cv265_10814.txt',\n",
       " 'pos/cv266_25779.txt',\n",
       " 'pos/cv267_14952.txt',\n",
       " 'pos/cv268_18834.txt',\n",
       " 'pos/cv269_21732.txt',\n",
       " 'pos/cv270_6079.txt',\n",
       " 'pos/cv271_13837.txt',\n",
       " 'pos/cv272_18974.txt',\n",
       " 'pos/cv273_29112.txt',\n",
       " 'pos/cv274_25253.txt',\n",
       " 'pos/cv275_28887.txt',\n",
       " 'pos/cv276_15684.txt',\n",
       " 'pos/cv277_19091.txt',\n",
       " 'pos/cv278_13041.txt',\n",
       " 'pos/cv279_18329.txt',\n",
       " 'pos/cv280_8267.txt',\n",
       " 'pos/cv281_23253.txt',\n",
       " 'pos/cv282_6653.txt',\n",
       " 'pos/cv283_11055.txt',\n",
       " 'pos/cv284_19119.txt',\n",
       " 'pos/cv285_16494.txt',\n",
       " 'pos/cv286_25050.txt',\n",
       " 'pos/cv287_15900.txt',\n",
       " 'pos/cv288_18791.txt',\n",
       " 'pos/cv289_6463.txt',\n",
       " 'pos/cv290_11084.txt',\n",
       " 'pos/cv291_26635.txt',\n",
       " 'pos/cv292_7282.txt',\n",
       " 'pos/cv293_29856.txt',\n",
       " 'pos/cv294_11684.txt',\n",
       " 'pos/cv295_15570.txt',\n",
       " 'pos/cv296_12251.txt',\n",
       " 'pos/cv297_10047.txt',\n",
       " 'pos/cv298_23111.txt',\n",
       " 'pos/cv299_16214.txt',\n",
       " 'pos/cv300_22284.txt',\n",
       " 'pos/cv301_12146.txt',\n",
       " 'pos/cv302_25649.txt',\n",
       " 'pos/cv303_27520.txt',\n",
       " 'pos/cv304_28706.txt',\n",
       " 'pos/cv305_9946.txt',\n",
       " 'pos/cv306_10364.txt',\n",
       " 'pos/cv307_25270.txt',\n",
       " 'pos/cv308_5016.txt',\n",
       " 'pos/cv309_22571.txt',\n",
       " 'pos/cv310_13091.txt',\n",
       " 'pos/cv311_16002.txt',\n",
       " 'pos/cv312_29377.txt',\n",
       " 'pos/cv313_18198.txt',\n",
       " 'pos/cv314_14422.txt',\n",
       " 'pos/cv315_11629.txt',\n",
       " 'pos/cv316_6370.txt',\n",
       " 'pos/cv317_24049.txt',\n",
       " 'pos/cv318_10493.txt',\n",
       " 'pos/cv319_14727.txt',\n",
       " 'pos/cv320_9530.txt',\n",
       " 'pos/cv321_12843.txt',\n",
       " 'pos/cv322_20318.txt',\n",
       " 'pos/cv323_29805.txt',\n",
       " 'pos/cv324_7082.txt',\n",
       " 'pos/cv325_16629.txt',\n",
       " 'pos/cv326_13295.txt',\n",
       " 'pos/cv327_20292.txt',\n",
       " 'pos/cv328_10373.txt',\n",
       " 'pos/cv329_29370.txt',\n",
       " 'pos/cv330_29809.txt',\n",
       " 'pos/cv331_8273.txt',\n",
       " 'pos/cv332_16307.txt',\n",
       " 'pos/cv333_8916.txt',\n",
       " 'pos/cv334_10001.txt',\n",
       " 'pos/cv335_14665.txt',\n",
       " 'pos/cv336_10143.txt',\n",
       " 'pos/cv337_29181.txt',\n",
       " 'pos/cv338_8821.txt',\n",
       " 'pos/cv339_21119.txt',\n",
       " 'pos/cv340_13287.txt',\n",
       " 'pos/cv341_24430.txt',\n",
       " 'pos/cv342_19456.txt',\n",
       " 'pos/cv343_10368.txt',\n",
       " 'pos/cv344_5312.txt',\n",
       " 'pos/cv345_9954.txt',\n",
       " 'pos/cv346_18168.txt',\n",
       " 'pos/cv347_13194.txt',\n",
       " 'pos/cv348_18176.txt',\n",
       " 'pos/cv349_13507.txt',\n",
       " 'pos/cv350_20670.txt',\n",
       " 'pos/cv351_15458.txt',\n",
       " 'pos/cv352_5524.txt',\n",
       " 'pos/cv353_18159.txt',\n",
       " 'pos/cv354_8132.txt',\n",
       " 'pos/cv355_16413.txt',\n",
       " 'pos/cv356_25163.txt',\n",
       " 'pos/cv357_13156.txt',\n",
       " 'pos/cv358_10691.txt',\n",
       " 'pos/cv359_6647.txt',\n",
       " 'pos/cv360_8398.txt',\n",
       " 'pos/cv361_28944.txt',\n",
       " 'pos/cv362_15341.txt',\n",
       " 'pos/cv363_29332.txt',\n",
       " 'pos/cv364_12901.txt',\n",
       " 'pos/cv365_11576.txt',\n",
       " 'pos/cv366_10221.txt',\n",
       " 'pos/cv367_22792.txt',\n",
       " 'pos/cv368_10466.txt',\n",
       " 'pos/cv369_12886.txt',\n",
       " 'pos/cv370_5221.txt',\n",
       " 'pos/cv371_7630.txt',\n",
       " 'pos/cv372_6552.txt',\n",
       " 'pos/cv373_20404.txt',\n",
       " 'pos/cv374_25436.txt',\n",
       " 'pos/cv375_9929.txt',\n",
       " 'pos/cv376_19435.txt',\n",
       " 'pos/cv377_7946.txt',\n",
       " 'pos/cv378_20629.txt',\n",
       " 'pos/cv379_21963.txt',\n",
       " 'pos/cv380_7574.txt',\n",
       " 'pos/cv381_20172.txt',\n",
       " 'pos/cv382_7897.txt',\n",
       " 'pos/cv383_13116.txt',\n",
       " 'pos/cv384_17140.txt',\n",
       " 'pos/cv385_29741.txt',\n",
       " 'pos/cv386_10080.txt',\n",
       " 'pos/cv387_11507.txt',\n",
       " 'pos/cv388_12009.txt',\n",
       " 'pos/cv389_9369.txt',\n",
       " 'pos/cv390_11345.txt',\n",
       " 'pos/cv391_10802.txt',\n",
       " 'pos/cv392_11458.txt',\n",
       " 'pos/cv393_29327.txt',\n",
       " 'pos/cv394_5137.txt',\n",
       " 'pos/cv395_10849.txt',\n",
       " 'pos/cv396_17989.txt',\n",
       " 'pos/cv397_29023.txt',\n",
       " 'pos/cv398_15537.txt',\n",
       " 'pos/cv399_2877.txt',\n",
       " 'pos/cv400_19220.txt',\n",
       " 'pos/cv401_12605.txt',\n",
       " 'pos/cv402_14425.txt',\n",
       " 'pos/cv403_6621.txt',\n",
       " 'pos/cv404_20315.txt',\n",
       " 'pos/cv405_20399.txt',\n",
       " 'pos/cv406_21020.txt',\n",
       " 'pos/cv407_22637.txt',\n",
       " 'pos/cv408_5297.txt',\n",
       " 'pos/cv409_29786.txt',\n",
       " 'pos/cv410_24266.txt',\n",
       " 'pos/cv411_15007.txt',\n",
       " 'pos/cv412_24095.txt',\n",
       " 'pos/cv413_7398.txt',\n",
       " 'pos/cv414_10518.txt',\n",
       " 'pos/cv415_22517.txt',\n",
       " 'pos/cv416_11136.txt',\n",
       " 'pos/cv417_13115.txt',\n",
       " 'pos/cv418_14774.txt',\n",
       " 'pos/cv419_13394.txt',\n",
       " 'pos/cv420_28795.txt',\n",
       " 'pos/cv421_9709.txt',\n",
       " 'pos/cv422_9381.txt',\n",
       " 'pos/cv423_11155.txt',\n",
       " 'pos/cv424_8831.txt',\n",
       " 'pos/cv425_8250.txt',\n",
       " 'pos/cv426_10421.txt',\n",
       " 'pos/cv427_10825.txt',\n",
       " 'pos/cv428_11347.txt',\n",
       " 'pos/cv429_7439.txt',\n",
       " 'pos/cv430_17351.txt',\n",
       " 'pos/cv431_7085.txt',\n",
       " 'pos/cv432_14224.txt',\n",
       " 'pos/cv433_10144.txt',\n",
       " 'pos/cv434_5793.txt',\n",
       " 'pos/cv435_23110.txt',\n",
       " 'pos/cv436_19179.txt',\n",
       " 'pos/cv437_22849.txt',\n",
       " 'pos/cv438_8043.txt',\n",
       " 'pos/cv439_15970.txt',\n",
       " 'pos/cv440_15243.txt',\n",
       " 'pos/cv441_13711.txt',\n",
       " 'pos/cv442_13846.txt',\n",
       " 'pos/cv443_21118.txt',\n",
       " 'pos/cv444_9974.txt',\n",
       " 'pos/cv445_25882.txt',\n",
       " 'pos/cv446_11353.txt',\n",
       " 'pos/cv447_27332.txt',\n",
       " 'pos/cv448_14695.txt',\n",
       " 'pos/cv449_8785.txt',\n",
       " 'pos/cv450_7890.txt',\n",
       " 'pos/cv451_10690.txt',\n",
       " 'pos/cv452_5088.txt',\n",
       " 'pos/cv453_10379.txt',\n",
       " 'pos/cv454_2053.txt',\n",
       " 'pos/cv455_29000.txt',\n",
       " 'pos/cv456_18985.txt',\n",
       " 'pos/cv457_18453.txt',\n",
       " 'pos/cv458_8604.txt',\n",
       " 'pos/cv459_20319.txt',\n",
       " 'pos/cv460_10842.txt',\n",
       " 'pos/cv461_19600.txt',\n",
       " 'pos/cv462_19350.txt',\n",
       " 'pos/cv463_10343.txt',\n",
       " 'pos/cv464_15650.txt',\n",
       " 'pos/cv465_22431.txt',\n",
       " 'pos/cv466_18722.txt',\n",
       " 'pos/cv467_25773.txt',\n",
       " 'pos/cv468_15228.txt',\n",
       " 'pos/cv469_20630.txt',\n",
       " 'pos/cv470_15952.txt',\n",
       " 'pos/cv471_16858.txt',\n",
       " 'pos/cv472_29280.txt',\n",
       " 'pos/cv473_7367.txt',\n",
       " 'pos/cv474_10209.txt',\n",
       " 'pos/cv475_21692.txt',\n",
       " 'pos/cv476_16856.txt',\n",
       " 'pos/cv477_22479.txt',\n",
       " 'pos/cv478_14309.txt',\n",
       " 'pos/cv479_5649.txt',\n",
       " 'pos/cv480_19817.txt',\n",
       " 'pos/cv481_7436.txt',\n",
       " 'pos/cv482_10580.txt',\n",
       " 'pos/cv483_16378.txt',\n",
       " 'pos/cv484_25054.txt',\n",
       " 'pos/cv485_26649.txt',\n",
       " 'pos/cv486_9799.txt',\n",
       " 'pos/cv487_10446.txt',\n",
       " 'pos/cv488_19856.txt',\n",
       " 'pos/cv489_17906.txt',\n",
       " 'pos/cv490_17872.txt',\n",
       " 'pos/cv491_12145.txt',\n",
       " 'pos/cv492_18271.txt',\n",
       " 'pos/cv493_12839.txt',\n",
       " 'pos/cv494_17389.txt',\n",
       " 'pos/cv495_14518.txt',\n",
       " 'pos/cv496_10530.txt',\n",
       " 'pos/cv497_26980.txt',\n",
       " 'pos/cv498_8832.txt',\n",
       " 'pos/cv499_10658.txt',\n",
       " 'pos/cv500_10251.txt',\n",
       " 'pos/cv501_11657.txt',\n",
       " 'pos/cv502_10406.txt',\n",
       " 'pos/cv503_10558.txt',\n",
       " 'pos/cv504_29243.txt',\n",
       " 'pos/cv505_12090.txt',\n",
       " 'pos/cv506_15956.txt',\n",
       " 'pos/cv507_9220.txt',\n",
       " 'pos/cv508_16006.txt',\n",
       " 'pos/cv509_15888.txt',\n",
       " 'pos/cv510_23360.txt',\n",
       " 'pos/cv511_10132.txt',\n",
       " 'pos/cv512_15965.txt',\n",
       " 'pos/cv513_6923.txt',\n",
       " 'pos/cv514_11187.txt',\n",
       " 'pos/cv515_17069.txt',\n",
       " 'pos/cv516_11172.txt',\n",
       " 'pos/cv517_19219.txt',\n",
       " 'pos/cv518_13331.txt',\n",
       " 'pos/cv519_14661.txt',\n",
       " 'pos/cv520_12295.txt',\n",
       " 'pos/cv521_15828.txt',\n",
       " 'pos/cv522_5583.txt',\n",
       " 'pos/cv523_16615.txt',\n",
       " 'pos/cv524_23627.txt',\n",
       " 'pos/cv525_16122.txt',\n",
       " 'pos/cv526_12083.txt',\n",
       " 'pos/cv527_10123.txt',\n",
       " 'pos/cv528_10822.txt',\n",
       " 'pos/cv529_10420.txt',\n",
       " 'pos/cv530_16212.txt',\n",
       " 'pos/cv531_26486.txt',\n",
       " 'pos/cv532_6522.txt',\n",
       " 'pos/cv533_9821.txt',\n",
       " 'pos/cv534_14083.txt',\n",
       " 'pos/cv535_19728.txt',\n",
       " 'pos/cv536_27134.txt',\n",
       " 'pos/cv537_12370.txt',\n",
       " 'pos/cv538_28667.txt',\n",
       " 'pos/cv539_20347.txt',\n",
       " 'pos/cv540_3421.txt',\n",
       " 'pos/cv541_28835.txt',\n",
       " 'pos/cv542_18980.txt',\n",
       " 'pos/cv543_5045.txt',\n",
       " 'pos/cv544_5108.txt',\n",
       " 'pos/cv545_12014.txt',\n",
       " 'pos/cv546_11767.txt',\n",
       " 'pos/cv547_16324.txt',\n",
       " 'pos/cv548_17731.txt',\n",
       " 'pos/cv549_21443.txt',\n",
       " 'pos/cv550_22211.txt',\n",
       " 'pos/cv551_10565.txt',\n",
       " 'pos/cv552_10016.txt',\n",
       " 'pos/cv553_26915.txt',\n",
       " 'pos/cv554_13151.txt',\n",
       " 'pos/cv555_23922.txt',\n",
       " 'pos/cv556_14808.txt',\n",
       " 'pos/cv557_11449.txt',\n",
       " 'pos/cv558_29507.txt',\n",
       " 'pos/cv559_0050.txt',\n",
       " 'pos/cv560_17175.txt',\n",
       " 'pos/cv561_9201.txt',\n",
       " 'pos/cv562_10359.txt',\n",
       " 'pos/cv563_17257.txt',\n",
       " 'pos/cv564_11110.txt',\n",
       " 'pos/cv565_29572.txt',\n",
       " 'pos/cv566_8581.txt',\n",
       " 'pos/cv567_29611.txt',\n",
       " 'pos/cv568_15638.txt',\n",
       " 'pos/cv569_26381.txt',\n",
       " 'pos/cv570_29082.txt',\n",
       " 'pos/cv571_29366.txt',\n",
       " 'pos/cv572_18657.txt',\n",
       " 'pos/cv573_29525.txt',\n",
       " 'pos/cv574_22156.txt',\n",
       " 'pos/cv575_21150.txt',\n",
       " 'pos/cv576_14094.txt',\n",
       " 'pos/cv577_28549.txt',\n",
       " 'pos/cv578_15094.txt',\n",
       " 'pos/cv579_11605.txt',\n",
       " 'pos/cv580_14064.txt',\n",
       " 'pos/cv581_19381.txt',\n",
       " 'pos/cv582_6559.txt',\n",
       " 'pos/cv583_29692.txt',\n",
       " 'pos/cv584_29722.txt',\n",
       " 'pos/cv585_22496.txt',\n",
       " 'pos/cv586_7543.txt',\n",
       " 'pos/cv587_19162.txt',\n",
       " 'pos/cv588_13008.txt',\n",
       " 'pos/cv589_12064.txt',\n",
       " 'pos/cv590_19290.txt',\n",
       " 'pos/cv591_23640.txt',\n",
       " 'pos/cv592_22315.txt',\n",
       " 'pos/cv593_10987.txt',\n",
       " 'pos/cv594_11039.txt',\n",
       " 'pos/cv595_25335.txt',\n",
       " 'pos/cv596_28311.txt',\n",
       " 'pos/cv597_26360.txt',\n",
       " 'pos/cv598_16452.txt',\n",
       " 'pos/cv599_20988.txt',\n",
       " 'pos/cv600_23878.txt',\n",
       " 'pos/cv601_23453.txt',\n",
       " 'pos/cv602_8300.txt',\n",
       " 'pos/cv603_17694.txt',\n",
       " 'pos/cv604_2230.txt',\n",
       " 'pos/cv605_11800.txt',\n",
       " 'pos/cv606_15985.txt',\n",
       " 'pos/cv607_7717.txt',\n",
       " 'pos/cv608_23231.txt',\n",
       " 'pos/cv609_23877.txt',\n",
       " 'pos/cv610_2287.txt',\n",
       " 'pos/cv611_21120.txt',\n",
       " 'pos/cv612_5461.txt',\n",
       " 'pos/cv613_21796.txt',\n",
       " 'pos/cv614_10626.txt',\n",
       " 'pos/cv615_14182.txt',\n",
       " 'pos/cv616_29319.txt',\n",
       " 'pos/cv617_9322.txt',\n",
       " 'pos/cv618_8974.txt',\n",
       " 'pos/cv619_12462.txt',\n",
       " 'pos/cv620_24265.txt',\n",
       " 'pos/cv621_14368.txt',\n",
       " 'pos/cv622_8147.txt',\n",
       " 'pos/cv623_15356.txt',\n",
       " 'pos/cv624_10744.txt',\n",
       " 'pos/cv625_12440.txt',\n",
       " 'pos/cv626_7410.txt',\n",
       " 'pos/cv627_11620.txt',\n",
       " 'pos/cv628_19325.txt',\n",
       " 'pos/cv629_14909.txt',\n",
       " 'pos/cv630_10057.txt',\n",
       " 'pos/cv631_4967.txt',\n",
       " 'pos/cv632_9610.txt',\n",
       " 'pos/cv633_29837.txt',\n",
       " 'pos/cv634_11101.txt',\n",
       " 'pos/cv635_10022.txt',\n",
       " 'pos/cv636_15279.txt',\n",
       " 'pos/cv637_1250.txt',\n",
       " 'pos/cv638_2953.txt',\n",
       " 'pos/cv639_10308.txt',\n",
       " 'pos/cv640_5378.txt',\n",
       " 'pos/cv641_12349.txt',\n",
       " 'pos/cv642_29867.txt',\n",
       " 'pos/cv643_29349.txt',\n",
       " 'pos/cv644_17154.txt',\n",
       " 'pos/cv645_15668.txt',\n",
       " 'pos/cv646_15065.txt',\n",
       " 'pos/cv647_13691.txt',\n",
       " 'pos/cv648_15792.txt',\n",
       " 'pos/cv649_12735.txt',\n",
       " 'pos/cv650_14340.txt',\n",
       " 'pos/cv651_10492.txt',\n",
       " 'pos/cv652_13972.txt',\n",
       " 'pos/cv653_19583.txt',\n",
       " 'pos/cv654_18246.txt',\n",
       " 'pos/cv655_11154.txt',\n",
       " 'pos/cv656_24201.txt',\n",
       " 'pos/cv657_24513.txt',\n",
       " 'pos/cv658_10532.txt',\n",
       " 'pos/cv659_19944.txt',\n",
       " 'pos/cv660_21893.txt',\n",
       " 'pos/cv661_2450.txt',\n",
       " 'pos/cv662_13320.txt',\n",
       " 'pos/cv663_13019.txt',\n",
       " 'pos/cv664_4389.txt',\n",
       " 'pos/cv665_29538.txt',\n",
       " 'pos/cv666_18963.txt',\n",
       " 'pos/cv667_18467.txt',\n",
       " 'pos/cv668_17604.txt',\n",
       " 'pos/cv669_22995.txt',\n",
       " 'pos/cv670_25826.txt',\n",
       " 'pos/cv671_5054.txt',\n",
       " 'pos/cv672_28083.txt',\n",
       " 'pos/cv673_24714.txt',\n",
       " 'pos/cv674_10732.txt',\n",
       " 'pos/cv675_21588.txt',\n",
       " 'pos/cv676_21090.txt',\n",
       " 'pos/cv677_17715.txt',\n",
       " 'pos/cv678_13419.txt',\n",
       " 'pos/cv679_28559.txt',\n",
       " 'pos/cv680_10160.txt',\n",
       " 'pos/cv681_9692.txt',\n",
       " 'pos/cv682_16139.txt',\n",
       " 'pos/cv683_12167.txt',\n",
       " 'pos/cv684_11798.txt',\n",
       " 'pos/cv685_5947.txt',\n",
       " 'pos/cv686_13900.txt',\n",
       " 'pos/cv687_21100.txt',\n",
       " 'pos/cv688_7368.txt',\n",
       " 'pos/cv689_12587.txt',\n",
       " 'pos/cv690_5619.txt',\n",
       " 'pos/cv691_5043.txt',\n",
       " 'pos/cv692_15451.txt',\n",
       " 'pos/cv693_18063.txt',\n",
       " 'pos/cv694_4876.txt',\n",
       " 'pos/cv695_21108.txt',\n",
       " 'pos/cv696_29740.txt',\n",
       " 'pos/cv697_11162.txt',\n",
       " 'pos/cv698_15253.txt',\n",
       " 'pos/cv699_7223.txt',\n",
       " 'pos/cv700_21947.txt',\n",
       " 'pos/cv701_14252.txt',\n",
       " 'pos/cv702_11500.txt',\n",
       " 'pos/cv703_16143.txt',\n",
       " 'pos/cv704_15969.txt',\n",
       " 'pos/cv705_11059.txt',\n",
       " 'pos/cv706_24716.txt',\n",
       " 'pos/cv707_10678.txt',\n",
       " 'pos/cv708_28729.txt',\n",
       " 'pos/cv709_10529.txt',\n",
       " 'pos/cv710_22577.txt',\n",
       " 'pos/cv711_11665.txt',\n",
       " 'pos/cv712_22920.txt',\n",
       " 'pos/cv713_29155.txt',\n",
       " 'pos/cv714_18502.txt',\n",
       " 'pos/cv715_18179.txt',\n",
       " 'pos/cv716_10514.txt',\n",
       " 'pos/cv717_15953.txt',\n",
       " 'pos/cv718_11434.txt',\n",
       " 'pos/cv719_5713.txt',\n",
       " 'pos/cv720_5389.txt',\n",
       " 'pos/cv721_29121.txt',\n",
       " 'pos/cv722_7110.txt',\n",
       " 'pos/cv723_8648.txt',\n",
       " 'pos/cv724_13681.txt',\n",
       " 'pos/cv725_10103.txt',\n",
       " 'pos/cv726_4719.txt',\n",
       " 'pos/cv727_4978.txt',\n",
       " 'pos/cv728_16133.txt',\n",
       " 'pos/cv729_10154.txt',\n",
       " 'pos/cv730_10279.txt',\n",
       " 'pos/cv731_4136.txt',\n",
       " 'pos/cv732_12245.txt',\n",
       " 'pos/cv733_9839.txt',\n",
       " 'pos/cv734_21568.txt',\n",
       " 'pos/cv735_18801.txt',\n",
       " 'pos/cv736_23670.txt',\n",
       " 'pos/cv737_28907.txt',\n",
       " 'pos/cv738_10116.txt',\n",
       " 'pos/cv739_11209.txt',\n",
       " 'pos/cv740_12445.txt',\n",
       " 'pos/cv741_11890.txt',\n",
       " 'pos/cv742_7751.txt',\n",
       " 'pos/cv743_15449.txt',\n",
       " 'pos/cv744_10038.txt',\n",
       " 'pos/cv745_12773.txt',\n",
       " 'pos/cv746_10147.txt',\n",
       " 'pos/cv747_16556.txt',\n",
       " 'pos/cv748_12786.txt',\n",
       " 'pos/cv749_17765.txt',\n",
       " 'pos/cv750_10180.txt',\n",
       " 'pos/cv751_15719.txt',\n",
       " 'pos/cv752_24155.txt',\n",
       " 'pos/cv753_10875.txt',\n",
       " 'pos/cv754_7216.txt',\n",
       " 'pos/cv755_23616.txt',\n",
       " 'pos/cv756_22540.txt',\n",
       " 'pos/cv757_10189.txt',\n",
       " 'pos/cv758_9671.txt',\n",
       " 'pos/cv759_13522.txt',\n",
       " 'pos/cv760_8597.txt',\n",
       " 'pos/cv761_12620.txt',\n",
       " 'pos/cv762_13927.txt',\n",
       " 'pos/cv763_14729.txt',\n",
       " 'pos/cv764_11739.txt',\n",
       " 'pos/cv765_19037.txt',\n",
       " 'pos/cv766_7540.txt',\n",
       " 'pos/cv767_14062.txt',\n",
       " 'pos/cv768_11751.txt',\n",
       " 'pos/cv769_8123.txt',\n",
       " 'pos/cv770_10451.txt',\n",
       " 'pos/cv771_28665.txt',\n",
       " 'pos/cv772_12119.txt',\n",
       " 'pos/cv773_18817.txt',\n",
       " 'pos/cv774_13845.txt',\n",
       " 'pos/cv775_16237.txt',\n",
       " 'pos/cv776_20529.txt',\n",
       " 'pos/cv777_10094.txt',\n",
       " 'pos/cv778_17330.txt',\n",
       " 'pos/cv779_17881.txt',\n",
       " 'pos/cv780_7984.txt',\n",
       " 'pos/cv781_5262.txt',\n",
       " 'pos/cv782_19526.txt',\n",
       " 'pos/cv783_13227.txt',\n",
       " 'pos/cv784_14394.txt',\n",
       " 'pos/cv785_22600.txt',\n",
       " 'pos/cv786_22497.txt',\n",
       " 'pos/cv787_13743.txt',\n",
       " 'pos/cv788_25272.txt',\n",
       " 'pos/cv789_12136.txt',\n",
       " 'pos/cv790_14600.txt',\n",
       " 'pos/cv791_16302.txt',\n",
       " 'pos/cv792_3832.txt',\n",
       " 'pos/cv793_13650.txt',\n",
       " 'pos/cv794_15868.txt',\n",
       " 'pos/cv795_10122.txt',\n",
       " 'pos/cv796_15782.txt',\n",
       " 'pos/cv797_6957.txt',\n",
       " 'pos/cv798_23531.txt',\n",
       " 'pos/cv799_18543.txt',\n",
       " 'pos/cv800_12368.txt',\n",
       " 'pos/cv801_25228.txt',\n",
       " 'pos/cv802_28664.txt',\n",
       " 'pos/cv803_8207.txt',\n",
       " 'pos/cv804_10862.txt',\n",
       " 'pos/cv805_19601.txt',\n",
       " 'pos/cv806_8842.txt',\n",
       " 'pos/cv807_21740.txt',\n",
       " 'pos/cv808_12635.txt',\n",
       " 'pos/cv809_5009.txt',\n",
       " 'pos/cv810_12458.txt',\n",
       " 'pos/cv811_21386.txt',\n",
       " 'pos/cv812_17924.txt',\n",
       " 'pos/cv813_6534.txt',\n",
       " 'pos/cv814_18975.txt',\n",
       " 'pos/cv815_22456.txt',\n",
       " 'pos/cv816_13655.txt',\n",
       " 'pos/cv817_4041.txt',\n",
       " 'pos/cv818_10211.txt',\n",
       " 'pos/cv819_9364.txt',\n",
       " 'pos/cv820_22892.txt',\n",
       " 'pos/cv821_29364.txt',\n",
       " 'pos/cv822_20049.txt',\n",
       " 'pos/cv823_15569.txt',\n",
       " 'pos/cv824_8838.txt',\n",
       " 'pos/cv825_5063.txt',\n",
       " 'pos/cv826_11834.txt',\n",
       " 'pos/cv827_18331.txt',\n",
       " 'pos/cv828_19831.txt',\n",
       " 'pos/cv829_20289.txt',\n",
       " 'pos/cv830_6014.txt',\n",
       " 'pos/cv831_14689.txt',\n",
       " 'pos/cv832_23275.txt',\n",
       " 'pos/cv833_11053.txt',\n",
       " 'pos/cv834_22195.txt',\n",
       " 'pos/cv835_19159.txt',\n",
       " 'pos/cv836_12968.txt',\n",
       " 'pos/cv837_27325.txt',\n",
       " 'pos/cv838_24728.txt',\n",
       " 'pos/cv839_21467.txt',\n",
       " 'pos/cv840_16321.txt',\n",
       " 'pos/cv841_3967.txt',\n",
       " 'pos/cv842_5866.txt',\n",
       " 'pos/cv843_15544.txt',\n",
       " 'pos/cv844_12690.txt',\n",
       " 'pos/cv845_14290.txt',\n",
       " 'pos/cv846_29497.txt',\n",
       " 'pos/cv847_1941.txt',\n",
       " 'pos/cv848_10036.txt',\n",
       " 'pos/cv849_15729.txt',\n",
       " 'pos/cv850_16466.txt',\n",
       " 'pos/cv851_20469.txt',\n",
       " 'pos/cv852_27523.txt',\n",
       " 'pos/cv853_29233.txt',\n",
       " 'pos/cv854_17740.txt',\n",
       " 'pos/cv855_20661.txt',\n",
       " 'pos/cv856_29013.txt',\n",
       " 'pos/cv857_15958.txt',\n",
       " 'pos/cv858_18819.txt',\n",
       " 'pos/cv859_14107.txt',\n",
       " 'pos/cv860_13853.txt',\n",
       " 'pos/cv861_1198.txt',\n",
       " 'pos/cv862_14324.txt',\n",
       " 'pos/cv863_7424.txt',\n",
       " 'pos/cv864_3416.txt',\n",
       " 'pos/cv865_2895.txt',\n",
       " 'pos/cv866_29691.txt',\n",
       " 'pos/cv867_16661.txt',\n",
       " 'pos/cv868_11948.txt',\n",
       " 'pos/cv869_23611.txt',\n",
       " 'pos/cv870_16348.txt',\n",
       " 'pos/cv871_24888.txt',\n",
       " 'pos/cv872_12591.txt',\n",
       " 'pos/cv873_18636.txt',\n",
       " 'pos/cv874_11236.txt',\n",
       " 'pos/cv875_5754.txt',\n",
       " 'pos/cv876_9390.txt',\n",
       " 'pos/cv877_29274.txt',\n",
       " 'pos/cv878_15694.txt',\n",
       " 'pos/cv879_14903.txt',\n",
       " 'pos/cv880_29800.txt',\n",
       " 'pos/cv881_13254.txt',\n",
       " 'pos/cv882_10026.txt',\n",
       " 'pos/cv883_27751.txt',\n",
       " 'pos/cv884_13632.txt',\n",
       " 'pos/cv885_12318.txt',\n",
       " 'pos/cv886_18177.txt',\n",
       " 'pos/cv887_5126.txt',\n",
       " 'pos/cv888_24435.txt',\n",
       " 'pos/cv889_21430.txt',\n",
       " 'pos/cv890_3977.txt',\n",
       " 'pos/cv891_6385.txt',\n",
       " 'pos/cv892_17576.txt',\n",
       " 'pos/cv893_26269.txt',\n",
       " 'pos/cv894_2068.txt',\n",
       " 'pos/cv895_21022.txt',\n",
       " 'pos/cv896_16071.txt',\n",
       " 'pos/cv897_10837.txt',\n",
       " 'pos/cv898_14187.txt',\n",
       " 'pos/cv899_16014.txt',\n",
       " 'pos/cv900_10331.txt',\n",
       " 'pos/cv901_11017.txt',\n",
       " 'pos/cv902_12256.txt',\n",
       " 'pos/cv903_17822.txt',\n",
       " 'pos/cv904_24353.txt',\n",
       " 'pos/cv905_29114.txt',\n",
       " 'pos/cv906_11491.txt',\n",
       " 'pos/cv907_3541.txt',\n",
       " 'pos/cv908_16009.txt',\n",
       " 'pos/cv909_9960.txt',\n",
       " 'pos/cv910_20488.txt',\n",
       " 'pos/cv911_20260.txt',\n",
       " 'pos/cv912_5674.txt',\n",
       " 'pos/cv913_29252.txt',\n",
       " 'pos/cv914_28742.txt',\n",
       " 'pos/cv915_8841.txt',\n",
       " 'pos/cv916_15467.txt',\n",
       " 'pos/cv917_29715.txt',\n",
       " 'pos/cv918_2693.txt',\n",
       " 'pos/cv919_16380.txt',\n",
       " 'pos/cv920_29622.txt',\n",
       " 'pos/cv921_12747.txt',\n",
       " 'pos/cv922_10073.txt',\n",
       " 'pos/cv923_11051.txt',\n",
       " 'pos/cv924_29540.txt',\n",
       " 'pos/cv925_8969.txt',\n",
       " 'pos/cv926_17059.txt',\n",
       " 'pos/cv927_10681.txt',\n",
       " 'pos/cv928_9168.txt',\n",
       " 'pos/cv929_16908.txt',\n",
       " 'pos/cv930_13475.txt',\n",
       " 'pos/cv931_17563.txt',\n",
       " 'pos/cv932_13401.txt',\n",
       " 'pos/cv933_23776.txt',\n",
       " 'pos/cv934_19027.txt',\n",
       " 'pos/cv935_23841.txt',\n",
       " 'pos/cv936_15954.txt',\n",
       " 'pos/cv937_9811.txt',\n",
       " 'pos/cv938_10220.txt',\n",
       " 'pos/cv939_10583.txt',\n",
       " 'pos/cv940_17705.txt',\n",
       " 'pos/cv941_10246.txt',\n",
       " 'pos/cv942_17082.txt',\n",
       " 'pos/cv943_22488.txt',\n",
       " 'pos/cv944_13521.txt',\n",
       " 'pos/cv945_12160.txt',\n",
       " 'pos/cv946_18658.txt',\n",
       " 'pos/cv947_10601.txt',\n",
       " 'pos/cv948_24606.txt',\n",
       " 'pos/cv949_20112.txt',\n",
       " 'pos/cv950_12350.txt',\n",
       " 'pos/cv951_10926.txt',\n",
       " 'pos/cv952_25240.txt',\n",
       " 'pos/cv953_6836.txt',\n",
       " 'pos/cv954_18628.txt',\n",
       " 'pos/cv955_25001.txt',\n",
       " 'pos/cv956_11609.txt',\n",
       " 'pos/cv957_8737.txt',\n",
       " 'pos/cv958_12162.txt',\n",
       " 'pos/cv959_14611.txt',\n",
       " 'pos/cv960_29007.txt',\n",
       " 'pos/cv961_5682.txt',\n",
       " 'pos/cv962_9803.txt',\n",
       " 'pos/cv963_6895.txt',\n",
       " 'pos/cv964_6021.txt',\n",
       " 'pos/cv965_26071.txt',\n",
       " 'pos/cv966_28832.txt',\n",
       " 'pos/cv967_5788.txt',\n",
       " 'pos/cv968_24218.txt',\n",
       " 'pos/cv969_13250.txt',\n",
       " 'pos/cv970_18450.txt',\n",
       " 'pos/cv971_10874.txt',\n",
       " 'pos/cv972_26417.txt',\n",
       " 'pos/cv973_10066.txt',\n",
       " 'pos/cv974_22941.txt',\n",
       " 'pos/cv975_10981.txt',\n",
       " 'pos/cv976_10267.txt',\n",
       " 'pos/cv977_4938.txt',\n",
       " 'pos/cv978_20929.txt',\n",
       " 'pos/cv979_18921.txt',\n",
       " 'pos/cv980_10953.txt',\n",
       " 'pos/cv981_14989.txt',\n",
       " 'pos/cv982_21103.txt',\n",
       " 'pos/cv983_22928.txt',\n",
       " 'pos/cv984_12767.txt',\n",
       " 'pos/cv985_6359.txt',\n",
       " 'pos/cv986_13527.txt',\n",
       " 'pos/cv987_6965.txt',\n",
       " 'pos/cv988_18740.txt',\n",
       " 'pos/cv989_15824.txt',\n",
       " 'pos/cv990_11591.txt',\n",
       " 'pos/cv991_18645.txt',\n",
       " 'pos/cv992_11962.txt',\n",
       " 'pos/cv993_29737.txt',\n",
       " 'pos/cv994_12270.txt',\n",
       " 'pos/cv995_21821.txt',\n",
       " 'pos/cv996_11592.txt',\n",
       " 'pos/cv997_5046.txt',\n",
       " 'pos/cv998_14111.txt',\n",
       " 'pos/cv999_13106.txt']"
      ]
     },
     "execution_count": 38,
     "metadata": {},
     "output_type": "execute_result"
    }
   ],
   "source": [
    "# display the file names for the positive reviews\n",
    "movie_reviews.fileids('pos')"
   ]
  },
  {
   "cell_type": "code",
   "execution_count": 40,
   "metadata": {},
   "outputs": [
    {
     "data": {
      "text/plain": [
       "'pos/cv000_29590.txt'"
      ]
     },
     "execution_count": 40,
     "metadata": {},
     "output_type": "execute_result"
    }
   ],
   "source": [
    "# display the filename for the first positive review in the data set\n",
    "movie_reviews.fileids('pos')[0]"
   ]
  },
  {
   "cell_type": "code",
   "execution_count": 42,
   "metadata": {},
   "outputs": [
    {
     "data": {
      "text/plain": [
       "['films', 'adapted', 'from', 'comic', 'books', 'have', ...]"
      ]
     },
     "execution_count": 42,
     "metadata": {},
     "output_type": "execute_result"
    }
   ],
   "source": [
    "# display the tokenized content of the first positive review\n",
    "movie_reviews.words(movie_reviews.fileids('pos')[0])"
   ]
  },
  {
   "cell_type": "code",
   "execution_count": 39,
   "metadata": {},
   "outputs": [
    {
     "data": {
      "text/plain": [
       "['neg', 'pos']"
      ]
     },
     "execution_count": 39,
     "metadata": {},
     "output_type": "execute_result"
    }
   ],
   "source": [
    "# how many categories of reviews does the data set provide?\n",
    "movie_reviews.categories()"
   ]
  },
  {
   "cell_type": "code",
   "execution_count": 4,
   "metadata": {},
   "outputs": [
    {
     "name": "stdout",
     "output_type": "stream",
     "text": [
      "[['films', 'adapted', 'from', 'comic', 'books', 'have', ...], ['every', 'now', 'and', 'then', 'a', 'movie', 'comes', ...], ['you', \"'\", 've', 'got', 'mail', 'works', 'alot', ...]]\n"
     ]
    }
   ],
   "source": [
    "# extract all of the positive movie reviews from the data set\n",
    "pos_reviews = []\n",
    "for fileid in movie_reviews.fileids('pos'):\n",
    "    words = movie_reviews.words(fileid)\n",
    "    pos_reviews.append(words)\n",
    "    \n",
    "# print first 3 positive reviews from the pos_reviews list\n",
    "print (pos_reviews[0:3])"
   ]
  },
  {
   "cell_type": "code",
   "execution_count": 30,
   "metadata": {},
   "outputs": [
    {
     "name": "stdout",
     "output_type": "stream",
     "text": [
      "['films', 'adapted', 'from', 'comic', 'books', 'have', 'had', 'plenty', 'of', 'success', ',', 'whether', 'they', \"'\", 're', 'about', 'superheroes', '(', 'batman', ',', 'superman', ',', 'spawn', ')', ',', 'or', 'geared', 'toward', 'kids', '(']\n"
     ]
    }
   ],
   "source": [
    "# print first 30 tokens of the first item of positive review\n",
    "print (pos_reviews[0][:30])"
   ]
  },
  {
   "cell_type": "code",
   "execution_count": 45,
   "metadata": {},
   "outputs": [
    {
     "data": {
      "text/plain": [
       "862"
      ]
     },
     "execution_count": 45,
     "metadata": {},
     "output_type": "execute_result"
    }
   ],
   "source": [
    "# how many tokens in first review?\n",
    "len(pos_reviews[0])"
   ]
  },
  {
   "cell_type": "code",
   "execution_count": 5,
   "metadata": {},
   "outputs": [
    {
     "name": "stdout",
     "output_type": "stream",
     "text": [
      "['plot', ':', 'two', 'teen', 'couples', 'go', 'to', 'a', 'church', 'party', ',', 'drink', 'and', 'then', 'drive', '.', 'they', 'get', 'into', 'an', 'accident', '.', 'one', 'of', 'the', 'guys', 'dies', ',', 'but', 'his']\n"
     ]
    }
   ],
   "source": [
    "# gather the negative reviews together into a list\n",
    "neg_reviews = []\n",
    "for fileid in movie_reviews.fileids('neg'):\n",
    "    words = movie_reviews.words(fileid)\n",
    "    neg_reviews.append(words)\n",
    "    \n",
    "# print first 30 items of the first item of negative review\n",
    "print (neg_reviews[0][:30])"
   ]
  },
  {
   "cell_type": "code",
   "execution_count": 46,
   "metadata": {},
   "outputs": [
    {
     "data": {
      "text/plain": [
       "879"
      ]
     },
     "execution_count": 46,
     "metadata": {},
     "output_type": "execute_result"
    }
   ],
   "source": [
    "# how many tokens in first review?\n",
    "len(neg_reviews[0])"
   ]
  },
  {
   "cell_type": "code",
   "execution_count": 27,
   "metadata": {},
   "outputs": [
    {
     "data": {
      "text/plain": [
       "402"
      ]
     },
     "execution_count": 27,
     "metadata": {},
     "output_type": "execute_result"
    }
   ],
   "source": [
    "# now remove stop words + punctuation from positive reviews\n",
    "\n",
    "# load the string library: will be used to help remove punctuation\n",
    "import string\n",
    "\n",
    "#######################################################\n",
    "# function to remove stop words + punctuation\n",
    "def remove_stop_punc(words):\n",
    "    ''' this function removes English language stop words + punctuation from \n",
    "    a provided list of character strings'''\n",
    "    words_clean = []\n",
    " \n",
    "    # iterate through each word in the text document\n",
    "    for word in words:\n",
    "        # convert all characters to lowercase for consistency\n",
    "        word = word.lower()\n",
    "        # if the word is not a stop word and is not a punctuation character add it to clean word list\n",
    "        # note that the list 'en_stops' was defined above in the section discussing stopwords\n",
    "        if word not in en_stops and word not in string.punctuation:\n",
    "            words_clean.append(word)\n",
    "            \n",
    "    return words_clean\n",
    "#######################################################\n",
    "\n",
    "# positive reviews feature set\n",
    "clean_pos_reviews = []\n",
    "for words in pos_reviews:\n",
    "    clean_pos_reviews.append(remove_stop_punc(words))\n",
    "    \n",
    "    \n",
    "# print token count for first positive review item from the pos_reviews list: \n",
    "# 402 vs 862 before cleansing\n",
    "len(clean_pos_reviews[0])"
   ]
  },
  {
   "cell_type": "code",
   "execution_count": 28,
   "metadata": {},
   "outputs": [
    {
     "data": {
      "text/plain": [
       "343"
      ]
     },
     "execution_count": 28,
     "metadata": {},
     "output_type": "execute_result"
    }
   ],
   "source": [
    "# remove stop words + punctuation from negative reviews feature set\n",
    "clean_neg_reviews = []\n",
    "for words in neg_reviews:\n",
    "    clean_neg_reviews.append(remove_stop_punc(words))\n",
    "    \n",
    "    \n",
    "# print token count for first negative review item from the neg_reviews list: \n",
    "# 343 vs 879 before cleansing\n",
    "len(clean_neg_reviews[0])"
   ]
  },
  {
   "cell_type": "code",
   "execution_count": 22,
   "metadata": {},
   "outputs": [],
   "source": [
    "# get the frequency distribution of the words in positive reviews\n",
    "all_words = []\n",
    "\n",
    "for review in clean_pos_reviews:\n",
    "    for word in review:\n",
    "         all_words.append(word)"
   ]
  },
  {
   "cell_type": "code",
   "execution_count": 23,
   "metadata": {},
   "outputs": [
    {
     "data": {
      "text/plain": [
       "376095"
      ]
     },
     "execution_count": 23,
     "metadata": {},
     "output_type": "execute_result"
    }
   ],
   "source": [
    "# how many non-stopwords are found within the 1000 positive reviews?\n",
    "len(all_words)"
   ]
  },
  {
   "cell_type": "code",
   "execution_count": 24,
   "metadata": {},
   "outputs": [
    {
     "data": {
      "text/plain": [
       "30236"
      ]
     },
     "execution_count": 24,
     "metadata": {},
     "output_type": "execute_result"
    }
   ],
   "source": [
    "# how many distinct non-stopwords are found across the 1000 positive reviews?\n",
    "len(nltk.FreqDist(all_words))"
   ]
  },
  {
   "cell_type": "code",
   "execution_count": 25,
   "metadata": {},
   "outputs": [
    {
     "data": {
      "text/plain": [
       "FreqDist({'film': 5230, 'one': 3052, 'movie': 2525, 'like': 1802, 'good': 1248, 'story': 1246, 'time': 1243, 'also': 1200, 'even': 1179, 'well': 1123, ...})"
      ]
     },
     "execution_count": 25,
     "metadata": {},
     "output_type": "execute_result"
    }
   ],
   "source": [
    "# what is the frequency distribution of the distinct words?\n",
    "freq = nltk.FreqDist(all_words)\n",
    "freq"
   ]
  },
  {
   "cell_type": "code",
   "execution_count": 26,
   "metadata": {},
   "outputs": [
    {
     "data": {
      "image/png": "[encoded data removed]",
      "text/plain": [
       "<Figure size 432x288 with 1 Axes>"
      ]
     },
     "metadata": {
      "needs_background": "light"
     },
     "output_type": "display_data"
    },
    {
     "data": {
      "text/plain": [
       "<matplotlib.axes._subplots.AxesSubplot at 0x263580b8710>"
      ]
     },
     "execution_count": 26,
     "metadata": {},
     "output_type": "execute_result"
    }
   ],
   "source": [
    "# plot the frequency distribution of the top 30 words from the set of positive reviews\n",
    "plot_pos_freq = freq.plot(30, cumulative=False)\n",
    "plot_pos_freq"
   ]
  },
  {
   "cell_type": "code",
   "execution_count": 13,
   "metadata": {},
   "outputs": [],
   "source": [
    "# get the frequency distribution of the words in negative reviews\n",
    "all_words = []\n",
    "\n",
    "for review in clean_neg_reviews:\n",
    "    for word in review:\n",
    "         all_words.append(word)"
   ]
  },
  {
   "cell_type": "code",
   "execution_count": 63,
   "metadata": {},
   "outputs": [
    {
     "data": {
      "text/plain": [
       "334483"
      ]
     },
     "execution_count": 63,
     "metadata": {},
     "output_type": "execute_result"
    }
   ],
   "source": [
    "# how many non-stopwords are found within the 1000 negative reviews?\n",
    "len(all_words)"
   ]
  },
  {
   "cell_type": "code",
   "execution_count": 14,
   "metadata": {},
   "outputs": [
    {
     "data": {
      "text/plain": [
       "28304"
      ]
     },
     "execution_count": 14,
     "metadata": {},
     "output_type": "execute_result"
    }
   ],
   "source": [
    "# how many distinct non-stopwords are found across the 1000 negative reviews?\n",
    "len(nltk.FreqDist(all_words))"
   ]
  },
  {
   "cell_type": "code",
   "execution_count": 15,
   "metadata": {},
   "outputs": [
    {
     "data": {
      "text/plain": [
       "FreqDist({'film': 4287, 'movie': 3246, 'one': 2800, 'like': 1888, 'even': 1386, 'time': 1168, 'good': 1163, 'would': 1090, 'get': 1052, 'bad': 1034, ...})"
      ]
     },
     "execution_count": 15,
     "metadata": {},
     "output_type": "execute_result"
    }
   ],
   "source": [
    "# what is the frequency distribution of the distinct words?\n",
    "freq = nltk.FreqDist(all_words)\n",
    "freq"
   ]
  },
  {
   "cell_type": "code",
   "execution_count": 21,
   "metadata": {},
   "outputs": [
    {
     "data": {
      "image/png": "[encoded data removed]",
      "text/plain": [
       "<Figure size 432x288 with 1 Axes>"
      ]
     },
     "metadata": {
      "needs_background": "light"
     },
     "output_type": "display_data"
    },
    {
     "data": {
      "text/plain": [
       "<matplotlib.axes._subplots.AxesSubplot at 0x26359862c88>"
      ]
     },
     "execution_count": 21,
     "metadata": {},
     "output_type": "execute_result"
    }
   ],
   "source": [
    "# plot the frequency distribution of the top 30 words from the set of negative reviews\n",
    "plot_neg_freq = freq.plot(30, cumulative=False)\n",
    "plot_neg_freq"
   ]
  },
  {
   "cell_type": "markdown",
   "metadata": {},
   "source": [
    "## Case Study: Constructing a Sentiment Analysis Classifier\n",
    "\n",
    "\n",
    "### Now that we have some insite into the content of the movie reviews, let's build a sentiment analysis classification model.\n",
    "\n",
    "- In machine learning, we use the term __\"feature\"__ to describe a measurable property or characteristic of the data we are working with. In the case of our movie reviews, we can treat the words that comprise the content of the reviews as \"features\" for purposes of constructing an automated movie review classification algorithm. By analyzing the words used in what we know to be \"positive\" and \"negative\" reviews, we can determine which words are more likely to be used in each and thereby use that knowledge as the basis of our classification algorithm.\n",
    "\n",
    "\n",
    "- For this example we'll make use of a __Naive Bayes__ classification algorithm that is provided within the NLTK library.\n",
    "\n",
    "\n",
    "- __Naive Bayes__ is a machine learning algorithm that relies on Bayes theorem of probability to predict the classification of a new data item.\n",
    "\n",
    "\n",
    "- __Naive Bayes__ assumes that the features we may find within a data set are unrelated to each other, i.e., the presence or abscence of any given feature within a data item does not influence the presence or abscence of any other feature within that same data item. \n",
    "\n",
    "\n",
    "- __Naive Bayes__ generates probabilities that reflect the likelihood that a given data item belongs to a particular classification (in our case, is a movie review __positive__ or __negative__?).  The class having the highest probability is assumed to be the most likely classification for the given data item.\n",
    "\n",
    "\n",
    "- A discussion of __Naive Bayes__ can be found here: https://www.analyticsvidhya.com/blog/2017/09/naive-bayes-explained/\n",
    "\n",
    "\n",
    "- Another good summary of __Naive Bayes__: https://dataaspirant.com/2017/02/06/naive-bayes-classifier-machine-learning/\n",
    "\n",
    "\n",
    "We'll base our example on the approach used here: http://blog.chapagain.com.np/python-nltk-sentiment-analysis-on-movie-reviews-natural-language-processing-nlp/\n",
    "\n",
    "\n",
    "We start by defining a function that will extract features from each movie review and then generate a dictionary object to be used by the NLTK Naive Bayes classification function."
   ]
  },
  {
   "cell_type": "code",
   "execution_count": 7,
   "metadata": {},
   "outputs": [],
   "source": [
    "# load the string library: will be used to help remove punctuation\n",
    "import string\n",
    "\n",
    "# feature extractor function\n",
    "def feature_extractor(words):\n",
    "    ''' this function removes English language stop words + punctuation from \n",
    "    a provided list of character strings and then creates a dictionary using\n",
    "    the remaining words. The dictionary is comprised of key:value pairs wherein\n",
    "    the key is a word from the list and the value is the Python keyword True. The True\n",
    "    keyword MUST be used as the value to enable the use of the NLTK naive bayes classifier function.'''\n",
    "    \n",
    "    # define a new list to store the words we will retain from the 'words' list\n",
    "    words_clean = []\n",
    " \n",
    "    # iterate through each word in the list\n",
    "    for word in words:\n",
    "        # convert all characters to lowercase for consistency\n",
    "        word = word.lower()\n",
    "        \n",
    "        # if the word is not a stop word and is not a punctuation character add it to clean word list\n",
    "        # note that the list 'en_stops' was defined above in the section discussing stopwords        \n",
    "        if word not in en_stops and word not in string.punctuation:\n",
    "            words_clean.append(word)\n",
    "    \n",
    "    words_dictionary = dict([word, True] for word in words_clean)\n",
    "    \n",
    "    return words_dictionary"
   ]
  },
  {
   "cell_type": "code",
   "execution_count": 8,
   "metadata": {},
   "outputs": [],
   "source": [
    "# gather the positive reviews together\n",
    "pos_reviews = []\n",
    "for fileid in movie_reviews.fileids('pos'):\n",
    "    words = movie_reviews.words(fileid)\n",
    "    pos_reviews.append(words)"
   ]
  },
  {
   "cell_type": "code",
   "execution_count": 9,
   "metadata": {},
   "outputs": [],
   "source": [
    "# gather the negative reviews together\n",
    "neg_reviews = []\n",
    "for fileid in movie_reviews.fileids('neg'):\n",
    "    words = movie_reviews.words(fileid)\n",
    "    neg_reviews.append(words)"
   ]
  },
  {
   "cell_type": "code",
   "execution_count": 10,
   "metadata": {},
   "outputs": [],
   "source": [
    "# positive reviews feature set\n",
    "pos_reviews_set = []\n",
    "for words in pos_reviews:\n",
    "    pos_reviews_set.append((feature_extractor(words), 'pos'))\n",
    "    \n",
    "# negative reviews feature set\n",
    "neg_reviews_set = []\n",
    "for words in neg_reviews:\n",
    "    neg_reviews_set.append((feature_extractor(words), 'neg'))"
   ]
  },
  {
   "cell_type": "code",
   "execution_count": 34,
   "metadata": {},
   "outputs": [],
   "source": [
    "# import the 'shuffle' function: we will randomize the order of the reviews \n",
    "from random import shuffle \n",
    "shuffle(pos_reviews_set)\n",
    "shuffle(neg_reviews_set)\n",
    "\n",
    "# take 200 positive + 200 negative reviews to create a testing data set\n",
    "test_set = pos_reviews_set[:200] + neg_reviews_set[:200]\n",
    "# randomize the testing data set\n",
    "shuffle(test_set)\n",
    "\n",
    "# use the rest of the reviews for the training data set\n",
    "train_set = pos_reviews_set[200:] + neg_reviews_set[200:]\n",
    "# randomize the training data set\n",
    "shuffle(train_set)"
   ]
  },
  {
   "cell_type": "code",
   "execution_count": 35,
   "metadata": {},
   "outputs": [
    {
     "name": "stdout",
     "output_type": "stream",
     "text": [
      "0.695\n"
     ]
    }
   ],
   "source": [
    "# load the naive bayes classifier + the classify library\n",
    "from nltk import classify\n",
    "from nltk import NaiveBayesClassifier\n",
    " \n",
    "# train the Naive Bayes classifier using a training set\n",
    "classifier = NaiveBayesClassifier.train(train_set)\n",
    "\n",
    "# now apply the naive bayes classifier to the test data set and check the accuracy of the result\n",
    "accuracy = classify.accuracy(classifier, test_set)\n",
    "print(accuracy)"
   ]
  },
  {
   "cell_type": "code",
   "execution_count": 36,
   "metadata": {},
   "outputs": [
    {
     "name": "stdout",
     "output_type": "stream",
     "text": [
      "Most Informative Features\n",
      "                   sucks = True              neg : pos    =     15.0 : 1.0\n",
      "               ludicrous = True              neg : pos    =     13.4 : 1.0\n",
      "                   anger = True              pos : neg    =     13.0 : 1.0\n",
      "             mcconaughey = True              pos : neg    =     11.7 : 1.0\n",
      "                  avoids = True              pos : neg    =     11.0 : 1.0\n",
      "             outstanding = True              pos : neg    =     10.8 : 1.0\n",
      "                  debate = True              pos : neg    =     10.3 : 1.0\n",
      "               stupidity = True              neg : pos    =     10.2 : 1.0\n",
      "              schumacher = True              neg : pos    =      9.7 : 1.0\n",
      "                  darker = True              pos : neg    =      9.7 : 1.0\n",
      "                     dud = True              neg : pos    =      9.7 : 1.0\n",
      "                marrying = True              pos : neg    =      9.7 : 1.0\n",
      "             understands = True              pos : neg    =      9.7 : 1.0\n",
      "                  finest = True              pos : neg    =      9.0 : 1.0\n",
      "               atrocious = True              neg : pos    =      9.0 : 1.0\n",
      "                 freddie = True              neg : pos    =      9.0 : 1.0\n",
      "                   jolie = True              neg : pos    =      9.0 : 1.0\n",
      "              astounding = True              pos : neg    =      9.0 : 1.0\n",
      "                    taxi = True              pos : neg    =      9.0 : 1.0\n",
      "                    3000 = True              neg : pos    =      9.0 : 1.0\n",
      "                   stare = True              neg : pos    =      9.0 : 1.0\n",
      "               marvelous = True              pos : neg    =      8.6 : 1.0\n",
      "               insulting = True              neg : pos    =      8.6 : 1.0\n",
      "                  prinze = True              neg : pos    =      8.3 : 1.0\n",
      "                 mcgowan = True              neg : pos    =      8.3 : 1.0\n",
      "                passable = True              neg : pos    =      8.3 : 1.0\n",
      "                  hatred = True              pos : neg    =      8.3 : 1.0\n",
      "                  addict = True              neg : pos    =      8.3 : 1.0\n",
      "          excruciatingly = True              neg : pos    =      8.3 : 1.0\n",
      "                 warrant = True              neg : pos    =      8.3 : 1.0\n",
      "None\n"
     ]
    }
   ],
   "source": [
    "# display the 30 most informative features as determined by the Naive Bayes classifier\n",
    "print (classifier.show_most_informative_features(30))"
   ]
  },
  {
   "cell_type": "markdown",
   "metadata": {},
   "source": [
    "The 'most informative' features found by the Naive Bayes classifier are shown above. The output also shows the magnitude of the probability of a given feature being either positive or negative relative to the alternative. For example, the word \"ludicrous\" is many times more likely to be contained in a negative review than in a positive review.\n",
    "\n",
    "### Applying our sentiment classifier to a \"new\" movie review\n",
    "\n",
    "We can test our sentiment classifier by submitting our own reviews to it and observing the classifications it applies to them.\n",
    "\n",
    "Let's start with a negative movie review:"
   ]
  },
  {
   "cell_type": "code",
   "execution_count": 37,
   "metadata": {},
   "outputs": [
    {
     "name": "stdout",
     "output_type": "stream",
     "text": [
      "\n",
      " \n",
      "It would be impossible to sum up all the stuff that's wrong with this film, so I'll break it down into what I remember most strongly: a man in an ingeniously fake-looking polar bear costume (funnier than the \"bear\" from Hercules in New York); an extra with the most unnatural laugh you're ever likely to hear; an ex-dope addict martian with tics; kid actors who make sure every syllable of their lines are slowly and caaarreee-fulll-yyy prrooo-noun-ceeed; a newspaper headline stating that Santa's been \"kidnaped\", and a giant robot. Yes, you read that right. A giant robot.\n",
      " \n",
      "The worst acting job in here must be when Mother Claus and her elves have been \"frozen\" by the \"Martians'\" weapons. Could they be *more* trembling? I know this was the sixties and everyone was doped up, but still.\n",
      "\n"
     ]
    }
   ],
   "source": [
    "review_bad = '''\n",
    " \n",
    "It would be impossible to sum up all the stuff that's wrong with this film, so I'll break it down into what I remember most strongly: a man in an ingeniously fake-looking polar bear costume (funnier than the \"bear\" from Hercules in New York); an extra with the most unnatural laugh you're ever likely to hear; an ex-dope addict martian with tics; kid actors who make sure every syllable of their lines are slowly and caaarreee-fulll-yyy prrooo-noun-ceeed; a newspaper headline stating that Santa's been \"kidnaped\", and a giant robot. Yes, you read that right. A giant robot.\n",
    " \n",
    "The worst acting job in here must be when Mother Claus and her elves have been \"frozen\" by the \"Martians'\" weapons. Could they be *more* trembling? I know this was the sixties and everyone was doped up, but still.\n",
    "'''\n",
    "print(review_bad )"
   ]
  },
  {
   "cell_type": "code",
   "execution_count": 38,
   "metadata": {
    "scrolled": true
   },
   "outputs": [
    {
     "name": "stdout",
     "output_type": "stream",
     "text": [
      "['It', 'would', 'be', 'impossible', 'to', 'sum', 'up', 'all', 'the', 'stuff', 'that', \"'s\", 'wrong', 'with', 'this', 'film', ',', 'so', 'I', \"'ll\", 'break', 'it', 'down', 'into', 'what', 'I', 'remember', 'most', 'strongly', ':', 'a', 'man', 'in', 'an', 'ingeniously', 'fake-looking', 'polar', 'bear', 'costume', '(', 'funnier', 'than', 'the', '``', 'bear', \"''\", 'from', 'Hercules', 'in', 'New', 'York', ')', ';', 'an', 'extra', 'with', 'the', 'most', 'unnatural', 'laugh', 'you', \"'re\", 'ever', 'likely', 'to', 'hear', ';', 'an', 'ex-dope', 'addict', 'martian', 'with', 'tics', ';', 'kid', 'actors', 'who', 'make', 'sure', 'every', 'syllable', 'of', 'their', 'lines', 'are', 'slowly', 'and', 'caaarreee-fulll-yyy', 'prrooo-noun-ceeed', ';', 'a', 'newspaper', 'headline', 'stating', 'that', 'Santa', \"'s\", 'been', '``', 'kidnaped', \"''\", ',', 'and', 'a', 'giant', 'robot', '.', 'Yes', ',', 'you', 'read', 'that', 'right', '.', 'A', 'giant', 'robot', '.', 'The', 'worst', 'acting', 'job', 'in', 'here', 'must', 'be', 'when', 'Mother', 'Claus', 'and', 'her', 'elves', 'have', 'been', '``', 'frozen', \"''\", 'by', 'the', '``', 'Martians', \"'\", \"''\", 'weapons', '.', 'Could', 'they', 'be', '*more*', 'trembling', '?', 'I', 'know', 'this', 'was', 'the', 'sixties', 'and', 'everyone', 'was', 'doped', 'up', ',', 'but', 'still', '.']\n"
     ]
    }
   ],
   "source": [
    "# import a word tokenizer from NLTK\n",
    "from nltk.tokenize import word_tokenize\n",
    "\n",
    "# tokenize the bad review.\n",
    "words = word_tokenize(review_bad)\n",
    "\n",
    "# display the tokens\n",
    "print(words)"
   ]
  },
  {
   "cell_type": "code",
   "execution_count": 39,
   "metadata": {},
   "outputs": [
    {
     "data": {
      "text/plain": [
       "'neg'"
      ]
     },
     "execution_count": 39,
     "metadata": {},
     "output_type": "execute_result"
    }
   ],
   "source": [
    "# use our feature extractor function to remove stopwords + punctuation + create the feature object\n",
    "features = feature_extractor(words)\n",
    "\n",
    "# apply the classifier to the features we've extracted from the review\n",
    "classifier.classify(features)"
   ]
  },
  {
   "cell_type": "markdown",
   "metadata": {},
   "source": [
    "The review was correctly classified as __negative__. However, the wording used within the review itself is overtly negative.\n",
    "\n",
    "Let's see what happens with a less-scathing version of the review:"
   ]
  },
  {
   "cell_type": "code",
   "execution_count": 40,
   "metadata": {},
   "outputs": [
    {
     "name": "stdout",
     "output_type": "stream",
     "text": [
      "\n",
      " \n",
      "There were some things I didn't like about this film. Here's what I remember most strongly: a man in an ingeniously fake-looking polar bear costume (funnier than the \"bear\" from Hercules in New York); an extra with a less than believable laugh; an ex-drug addict martian with tics; child actors who recite their lines very slowly and carefully; a newspaper headline declaring that Santa has been \"kidnapped\", and a giant robot.\n",
      " \n",
      "The least appealing acting job in the film must be when Mother Claus and her elves have been \"frozen\" by the \"Martians'\" weapons. They seemed to display an exaggerated amount of fear. Perhaps this was the preferred acting style in the 1960's?\n",
      "\n"
     ]
    }
   ],
   "source": [
    "review_lessbad = '''\n",
    " \n",
    "There were some things I didn't like about this film. Here's what I remember most strongly: a man in an ingeniously fake-looking polar bear costume (funnier than the \"bear\" from Hercules in New York); an extra with a less than believable laugh; an ex-drug addict martian with tics; child actors who recite their lines very slowly and carefully; a newspaper headline declaring that Santa has been \"kidnapped\", and a giant robot.\n",
    " \n",
    "The least appealing acting job in the film must be when Mother Claus and her elves have been \"frozen\" by the \"Martians'\" weapons. They seemed to display an exaggerated amount of fear. Perhaps this was the preferred acting style in the 1960's?\n",
    "'''\n",
    "print(review_lessbad )"
   ]
  },
  {
   "cell_type": "code",
   "execution_count": 41,
   "metadata": {},
   "outputs": [
    {
     "data": {
      "text/plain": [
       "'pos'"
      ]
     },
     "execution_count": 41,
     "metadata": {},
     "output_type": "execute_result"
    }
   ],
   "source": [
    "# tokenize the revised review\n",
    "words = word_tokenize(review_lessbad)\n",
    "\n",
    "# apply the feature_extractor function to remove stopwords + punctuation + create the features object\n",
    "features = feature_extractor(words)\n",
    "\n",
    "# apply the classifier to the features we've extracted from the review\n",
    "classifier.classify(features)"
   ]
  },
  {
   "cell_type": "markdown",
   "metadata": {},
   "source": [
    "As we can see, just a few simply adjustments to the wording of the negative review causes the classifier to identify it as a __positive__ review even though we as readers can easily determine that the review is negative.\n",
    "\n",
    "### Why is our classifier not performing as expected?\n",
    "\n",
    "- The number of sample reviews we are using to train the classifier may be too small. Constructing a robust sentiment classification model can require the use of tens of thousands of sample text items."
   ]
  }
 ],
 "metadata": {
  "kernelspec": {
   "display_name": "Python 3",
   "language": "python",
   "name": "python3"
  },
  "language_info": {
   "codemirror_mode": {
    "name": "ipython",
    "version": 3
   },
   "file_extension": ".py",
   "mimetype": "text/x-python",
   "name": "python",
   "nbconvert_exporter": "python",
   "pygments_lexer": "ipython3",
   "version": "3.7.3"
  }
 },
 "nbformat": 4,
 "nbformat_minor": 2
}
